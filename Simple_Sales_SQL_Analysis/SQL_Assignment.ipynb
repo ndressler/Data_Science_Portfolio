{
 "cells": [
  {
   "cell_type": "markdown",
   "id": "4df3dfba",
   "metadata": {},
   "source": [
    "# __Questions proposed:__\n",
    "\n",
    "1. How many tomatoes were sold during Jan 1st, 2016?\n",
    "2. Display the total paid amount for each product, display the product name.\n",
    "3. How many customers buy more than two different products on every visit (i.e. day)?\n",
    "4. Assuming a customer does not return the same day to buy the same product twice.How would you identify if the table contains duplicates?\n",
    "5. Display the 2nd most paid product every day."
   ]
  },
  {
   "cell_type": "code",
   "execution_count": 15,
   "id": "c730b829",
   "metadata": {},
   "outputs": [],
   "source": [
    "import pandas as pd\n",
    "import sqlite3\n",
    "\n",
    "conn = sqlite3.connect('sale.db')\n",
    "c = conn.cursor()"
   ]
  },
  {
   "cell_type": "code",
   "execution_count": 16,
   "id": "7ae126db",
   "metadata": {},
   "outputs": [
    {
     "name": "stdout",
     "output_type": "stream",
     "text": [
      "How many tomatoes were sold during Jan 1st, 2016?\n",
      "7\n"
     ]
    }
   ],
   "source": [
    "#How many tomatoes were sold during Jan 1st, 2016?\n",
    "\n",
    "c.execute('''\n",
    "SELECT date, SUM(units_sold) AS 'Tomatoes sold'\n",
    "FROM Sales\n",
    "WHERE sales.date = '2016-01-01' AND sales.product_id = (\n",
    "    SELECT products.id\n",
    "    FROM products\n",
    "    WHERE products.name = 'Tomato'\n",
    "    )\n",
    "''')\n",
    "tomatoes_1stjan = c.fetchall()\n",
    "print('How many tomatoes were sold during Jan 1st, 2016?\\n' + str(tomatoes_1stjan[0][1]))"
   ]
  },
  {
   "cell_type": "code",
   "execution_count": 5,
   "id": "9504fb86",
   "metadata": {},
   "outputs": [
    {
     "name": "stdout",
     "output_type": "stream",
     "text": [
      "\n",
      "Total paid amount for each product and the product name:\n",
      "[('Tomato', 123), ('Cucumber', 85), ('Avocado', 360), ('Red_Pepper', 60), ('Orange', 60)]\n"
     ]
    }
   ],
   "source": [
    "#Display the total paid amount for each product, display the product name.\n",
    "\n",
    "c.execute('''\n",
    "SELECT products.name AS 'Name', SUM(sales.paid_amount) AS  'Total paid amount for each product'\n",
    "FROM Sales, Products\n",
    "WHERE sales.product_id = products.id\n",
    "GROUP BY product_id\n",
    "''')\n",
    "totals = c.fetchall()\n",
    "print('\\nTotal paid amount for each product and the product name:')\n",
    "print(totals)"
   ]
  },
  {
   "cell_type": "code",
   "execution_count": 11,
   "id": "6808071d",
   "metadata": {},
   "outputs": [
    {
     "name": "stdout",
     "output_type": "stream",
     "text": [
      "\n",
      "The amount of customers that buy more than two different products on every visit(day):\n",
      "[]\n"
     ]
    }
   ],
   "source": [
    "#How many customers buy more than two different products on every visit (i.e. day)?\n",
    "\n",
    "c.execute('''\n",
    "SELECT DISTINCT COUNT(product_id) count, customer_id, date\n",
    "    FROM Sales\n",
    "    GROUP BY date, customer_id\n",
    "HAVING COUNT > 2\n",
    "''')\n",
    "more_2 = c.fetchall()\n",
    "print('\\nThe amount of customers that buy more than two different products on every visit(day):')\n",
    "print(more_2)\n",
    "\n",
    "#the answer is none"
   ]
  },
  {
   "cell_type": "code",
   "execution_count": 13,
   "id": "09116f30",
   "metadata": {},
   "outputs": [
    {
     "name": "stdout",
     "output_type": "stream",
     "text": [
      "\n",
      "Duplicates:\n",
      "[('2016-01-14', 2, 3, 2)]\n"
     ]
    }
   ],
   "source": [
    "# Assuming a customer does not return the same day to buy the same product twice.\n",
    "# How would you identify if the table contains duplicates?\n",
    "\n",
    "c.execute('''\n",
    "SELECT date, customer_id, product_id, COUNT(*)\n",
    "FROM sales\n",
    "GROUP BY date, customer_id, product_id\n",
    "HAVING COUNT(*) > 1;\n",
    "''')\n",
    "dupl = c.fetchall()\n",
    "print('\\nDuplicates:')\n",
    "print(dupl)"
   ]
  },
  {
   "cell_type": "code",
   "execution_count": 14,
   "id": "3a4d83e4",
   "metadata": {},
   "outputs": [
    {
     "name": "stdout",
     "output_type": "stream",
     "text": [
      "\n",
      "Second most sold product in each day:\n",
      "[('2016-01-01', 2, 35), ('2016-01-07', 3, 45), ('2016-01-10', 4, 60), ('2016-01-14', 1, 60)]\n"
     ]
    }
   ],
   "source": [
    "# Display the 2nd most paid product every day.\n",
    "c.execute('''\n",
    "SELECT date, product_id, MAX(soma)\n",
    "FROM (\n",
    "    SELECT a.date, a.product_id, SUM(a.paid_amount) soma\n",
    "    FROM sales AS a, (\n",
    "        SELECT MAX(soma), date, product_id\n",
    "        FROM (\n",
    "            SELECT SUM(paid_amount) soma, date, product_id\n",
    "            FROM 'Sales'\n",
    "            GROUP BY date, product_id\n",
    "            ORDER BY date, soma DESC\n",
    "            )\n",
    "        GROUP BY date\n",
    "        ) AS top1\n",
    "    WHERE a.date = top1.date\n",
    "    AND a.product_id <> top1.product_id\n",
    "    GROUP BY a.date, a.product_id\n",
    "    )\n",
    "GROUP BY date\n",
    "''')\n",
    "# we get the first most paid, and exclude it from a new table\n",
    "# and then get the max again (therefore, the 2nd highest)\n",
    "\n",
    "# bette to use FROM wheter then NOT IN for performance\n",
    "# FROM creates a temporary table to compar all info to\n",
    "# NOT IN creates a new table for each registry comparison, making it slower\n",
    "\n",
    "# WHERE date = date must be there to allow for the comparison to be filtered by day,\n",
    "# otherwise the max value could be counted as being top 1 for the month, not each day\n",
    "# it makes the restriction per day\n",
    "\n",
    "top2day = c.fetchall()\n",
    "print('\\nSecond most sold product in each day:')\n",
    "print(top2day)"
   ]
  },
  {
   "cell_type": "code",
   "execution_count": null,
   "id": "8b9ce318",
   "metadata": {},
   "outputs": [],
   "source": []
  }
 ],
 "metadata": {
  "kernelspec": {
   "display_name": "Python 3 (ipykernel)",
   "language": "python",
   "name": "python3"
  },
  "language_info": {
   "codemirror_mode": {
    "name": "ipython",
    "version": 3
   },
   "file_extension": ".py",
   "mimetype": "text/x-python",
   "name": "python",
   "nbconvert_exporter": "python",
   "pygments_lexer": "ipython3",
   "version": "3.8.12"
  },
  "toc": {
   "base_numbering": 1,
   "nav_menu": {},
   "number_sections": true,
   "sideBar": true,
   "skip_h1_title": false,
   "title_cell": "Table of Contents",
   "title_sidebar": "Contents",
   "toc_cell": false,
   "toc_position": {},
   "toc_section_display": true,
   "toc_window_display": false
  }
 },
 "nbformat": 4,
 "nbformat_minor": 5
}
