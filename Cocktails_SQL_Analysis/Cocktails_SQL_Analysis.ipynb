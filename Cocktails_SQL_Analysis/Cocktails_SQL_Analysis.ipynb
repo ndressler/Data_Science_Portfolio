{
 "cells": [
  {
   "cell_type": "markdown",
   "id": "6235bf5d",
   "metadata": {},
   "source": [
    "# __Questions proposed:__\n",
    "\n",
    "__Task 1:__ Provide the names of all cocktails that exist in the database.\n",
    "\n",
    "__Task 2:__ Find all the information about places that have the postal code 39108.\n",
    "\n",
    "__Task 3:__ Provide all postal codes (without duplicates).\n",
    "\n",
    "__Task 4:__ Which ingredient has an alcohol content greater than 30?\n",
    "\n",
    "__Task 5:__ In a drinking game, everyone should play with everyone. \n",
    "Display the corresponding list of game pairs (Name, Name).\n",
    "\n",
    "__Task 6:__ Display the names of all glasses and cocktails in a single-column table. Use a suitable quantity operation.\n",
    "\n",
    "__Task 7:__ for which cocktails there is still no recipe in the database (which cocktails are not mentioned in INGREDIENT_COCKTAIL)?\n",
    "\n",
    "__Task 8:__  In which restaurants is no Knieweich served?\n",
    "\n",
    "__Task 9__: Create a MY_COCKTAILS table that has the same structure as COCKTAIL. Insert the contents of table COCKTAIL into MY_COCKTAILS at the same time. You execute all subsequent changes exclusively on MY_COCKTAILS.\\\n",
    "\n",
    "__Task 10:__ insert a new cocktail \"Purple cow\" in the table MY_COCKTAILS. The cocktail is alcoholic, served in a snifter and has the ID 18.\n",
    "\n",
    "__Task 11:__ The cocktail \"Purple Cow\" is actually called \"Blue Cow\". Correct this mistake.\n",
    "\n",
    "__Task 12:__ First create a table MY_INGREDIENT that has the same structure as INGREDIENT. Let's assume that the alcohol content of all ingredients of the cocktail Knieweich is actually twice as high as the entered value. Then correct this error in the MY_INGREDIENTS table.\n",
    "\n",
    "__Task 13:__ Delete all cocktails from the MY_COCKTAILS table that contain \"Campari\" as an ingredient.\n",
    "\n",
    "__Task 14:__ which restaurants offer cocktails with ID 8 or ID 11?\n",
    "\n",
    "__Task 15:__ Which cocktail is alcoholic and is served in the 'cocktailglas'?\n",
    "\n",
    "__Task 16:__ Which glasses are never used?\n",
    "\n",
    "__Task 17:__ which cocktails do you talk about (table COCKTAIL_PERSON)? Output the names of the cocktails!\n",
    "\n",
    "__Task 18:__ Which ingredients have an alcohol content between 0 and 50?\n",
    "\n",
    "__Task 19:__ What personal names begin with S?\n",
    "\n",
    "__Task 20:__ Is there a place that doesn't serve cocktails?\n",
    "\n",
    "__Task 21:__ How many ingredients are there?\n",
    "\n",
    "__Task 22:__ What is the average alcohol content of the ingredients?\n",
    "\n",
    "__Task 23:__ What is the average alcohol content of the ingredients? (Without AVG() function.)\n",
    "\n",
    "__Task 24:__ A cocktail consists of several ingredients. The number of units of each Ingredients per cocktail are listed in the table INGREDIENT_COCKTAIL.\n",
    "\n",
    "__(a)__ The number of ingredients per cocktail.\n",
    "__(b)__ The number of ingredients per cocktail is required, but only for cocktails with more than 2 ingredients.\n",
    "__(c)__ The sum of the units of measure of the respective ingredients per cocktail is sought.\n",
    "__(d)__ The sum of the units of measure of the respective alcoholic ingredients per cocktail is sought.\n",
    "\n",
    "__Task 25:__ Determine the real alcohol content of all cocktails. The real alcohol content is calculated from the sum of all (alcohol content of the ingredient multiplied by the quantity units of the ingredient) divided by the sum of all quantity units. Rename the attributes of the solution relation appropriately.\n",
    "\n",
    "__Task 26:__ suppose the output of task 26 is in a View called \"Cocktail_alcohol_Content\".Determine the minimum and maximum of the alcohol content for the cocktails served in a restaurant.\n",
    "\n",
    "__Task 27:__ output the names of the glasses used for more than 2 cocktails."
   ]
  },
  {
   "cell_type": "code",
   "execution_count": 1,
   "id": "d968e14d",
   "metadata": {},
   "outputs": [
    {
     "name": "stdout",
     "output_type": "stream",
     "text": [
      "List of tables\n",
      "[('My_Cocktails',), ('local',), ('Cocktail',), ('Cocktail_person',), ('Cocktail_local',), ('Person',), ('Glas',), ('Ingredient_Cocktail',), ('Ingredient',)]\n"
     ]
    }
   ],
   "source": [
    "from webbrowser import get\n",
    "import pandas as pd\n",
    "import os\n",
    "from pathlib import Path\n",
    "import sqlite3\n",
    "\n",
    "directory = 'raw_data'\n",
    "Path('cocktails_database.db').touch()\n",
    "\n",
    "'''after TXT files were created, from the word file sent by the challenge,\n",
    "the files created dataframes that were later stored as CSV files'''\n",
    "\n",
    "for file in os.listdir(directory):\n",
    "    if file.endswith(\".txt\"):\n",
    "        filename = file.split('.txt')[0]\n",
    "        df = pd.read_csv(f'{directory}/{file}')  #creates dataframe\\\n",
    "        df.to_csv('{}/{}.csv'.format(directory,filename),index=None)  #stores df in a csv file\n",
    "\n",
    "\n",
    "'''CSV files are loaded into a SQL file, creating a database'''\n",
    "\n",
    "conn = sqlite3.connect('cocktails_database.db')\n",
    "c = conn.cursor()\n",
    "for file in os.listdir(directory):\n",
    "    if file.endswith(\".csv\"):\n",
    "        filename = file.split('.csv')[0]\n",
    "        df = pd.read_csv(f'{directory}/{file}')\n",
    "        #print(filename,df)\n",
    "        df.to_sql(f'{filename}', conn, if_exists='replace',\n",
    "                  index=False)  # write the data to sqlite table\n",
    "sql_query = \"\"\"SELECT name FROM sqlite_master\n",
    "WHERE type='table';\"\"\"\n",
    "c.execute(sql_query)\n",
    "print(\"List of tables\")\n",
    "print(c.fetchall())"
   ]
  },
  {
   "cell_type": "code",
   "execution_count": 2,
   "id": "bcfe663d",
   "metadata": {},
   "outputs": [
    {
     "name": "stdout",
     "output_type": "stream",
     "text": [
      "Task 1: This are the names of all cocktails that exist in the database:\n",
      "BlauerBaum, Russentod, Bond007, Donnergurgler, Knieweich, Cola_gruen, BlaueOma, GelbeHose, Pot, Down, Alexander, Americano, Bronx, Daiquiri, Manhattan, Stinger, Zombie\n"
     ]
    }
   ],
   "source": [
    "# Task 1: Provide the names of all cocktails that exist in the database.\n",
    "\n",
    "c.execute('''\n",
    "SELECT cname \n",
    "FROM cocktail\n",
    "''')\n",
    "name_of_all_cocktails = c.fetchall()\n",
    "print('Task 1: This are the names of all cocktails that exist in the database:\\n'+', '.join([x[0] for x in name_of_all_cocktails]))"
   ]
  },
  {
   "cell_type": "code",
   "execution_count": 3,
   "id": "8fa25556",
   "metadata": {},
   "outputs": [
    {
     "name": "stdout",
     "output_type": "stream",
     "text": [
      "Task 2:\n",
      "This are all the identity numbers of the locals that belong to the postal code 39108: 1, 2, 12\n",
      "This are all the names of the locals that belong to the postal code 39108: Klamauk, bagel, P 70\n",
      "Lastly, the postal code 39108 belongs to the following cities: Magdeburg, Magdeburg, Magdeburg\n"
     ]
    }
   ],
   "source": [
    "# Task 2: Find all the information about places that have the postal code 39108.\n",
    "\n",
    "c.execute('''\n",
    "SELECT *\n",
    "FROM local\n",
    "WHERE local.plz = 39108\n",
    "''') \n",
    "zipinfo_39108 = c.fetchall()\n",
    "print('Task 2:')\n",
    "print(f\"This are all the identity numbers of the locals that belong to the postal code 39108: {str([x[0] for x in zipinfo_39108])[1:-1]}\")\n",
    "print(f\"This are all the names of the locals that belong to the postal code 39108: {(', '.join([x[1] for x in zipinfo_39108]))}\")\n",
    "print(f\"Lastly, the postal code 39108 belongs to the following cities: {(', '.join([x[3] for x in zipinfo_39108]))}\")"
   ]
  },
  {
   "cell_type": "code",
   "execution_count": 4,
   "id": "a3144b10",
   "metadata": {},
   "outputs": [
    {
     "name": "stdout",
     "output_type": "stream",
     "text": [
      "Task 3: This are all postal codes: 39104, 39106, 39108, 39112, 39114, 39128\n"
     ]
    }
   ],
   "source": [
    "# Task 3: Provide all postal codes (without duplicates).\n",
    "\n",
    "c.execute('''\n",
    "SELECT DISTINCT local.plz\n",
    "FROM local\n",
    "ORDER BY\n",
    "    plz ASC\n",
    "''')\n",
    "all_zips = c.fetchall()\n",
    "all_zips_clean = [x[0] for x in all_zips] # remove of tuple\n",
    "print(\"Task 3: This are all postal codes: \"+(str(all_zips_clean)[1:-1]))"
   ]
  },
  {
   "cell_type": "code",
   "execution_count": 5,
   "id": "2d3eaf47",
   "metadata": {},
   "outputs": [
    {
     "name": "stdout",
     "output_type": "stream",
     "text": [
      "Task 4: The ingredients that have an alcohol content greater than 30 are:\n",
      "Tequila, Curacao Triple Sec, weisser Rum, brauner Rum, Apricot Brandy, Weinbrand, Canadian Whisky\n"
     ]
    }
   ],
   "source": [
    "# Task 4: Which ingredient has an alcohol content greater than 30?\n",
    "\n",
    "c.execute('''\n",
    "SELECT ingredient.zname\n",
    "FROM ingredient\n",
    "WHERE ingredient.ALKOHOLGEHALT >= 30\n",
    "''')\n",
    "alcohol_30 = c.fetchall()\n",
    "alcohol_30 = [x[0] for x in alcohol_30] # remove of tuple\n",
    "print(\"Task 4: The ingredients that have an alcohol content greater than 30 are:\\n\"+(', '.join(alcohol_30)))"
   ]
  },
  {
   "cell_type": "code",
   "execution_count": 6,
   "id": "3afb91a0",
   "metadata": {},
   "outputs": [
    {
     "name": "stdout",
     "output_type": "stream",
     "text": [
      "Task 5: Here's the list of all round paired playes for the drinking game:\n",
      "('Kaiservonchina', 'Thomas')\n",
      "('Kaiservonchina', 'Vannara')\n",
      "('Kaiservonchina', 'Luana')\n",
      "('Kaiservonchina', 'Sabine')\n",
      "('Kaiservonchina', 'Masako')\n",
      "('Kaiservonchina', 'Fanny')\n",
      "('Kaiservonchina', 'Hyekyoung')\n",
      "('Kaiservonchina', 'Elrid')\n",
      "('Kaiservonchina', 'Cintia')\n",
      "('Kaiservonchina', 'Aya')\n",
      "('Kaiservonchina', 'Silvana')\n",
      "('Kaiservonchina', 'Elena')\n",
      "('Kaiservonchina', 'Aurelie')\n",
      "('Thomas', 'Vannara')\n",
      "('Thomas', 'Luana')\n",
      "('Thomas', 'Sabine')\n",
      "('Thomas', 'Masako')\n",
      "('Thomas', 'Fanny')\n",
      "('Thomas', 'Hyekyoung')\n",
      "('Thomas', 'Elrid')\n",
      "('Thomas', 'Cintia')\n",
      "('Thomas', 'Aya')\n",
      "('Thomas', 'Silvana')\n",
      "('Thomas', 'Elena')\n",
      "('Thomas', 'Aurelie')\n",
      "('Vannara', 'Luana')\n",
      "('Vannara', 'Sabine')\n",
      "('Vannara', 'Masako')\n",
      "('Vannara', 'Fanny')\n",
      "('Vannara', 'Hyekyoung')\n",
      "('Vannara', 'Elrid')\n",
      "('Vannara', 'Cintia')\n",
      "('Vannara', 'Aya')\n",
      "('Vannara', 'Silvana')\n",
      "('Vannara', 'Elena')\n",
      "('Vannara', 'Aurelie')\n",
      "('Luana', 'Sabine')\n",
      "('Luana', 'Masako')\n",
      "('Luana', 'Fanny')\n",
      "('Luana', 'Hyekyoung')\n",
      "('Luana', 'Elrid')\n",
      "('Luana', 'Cintia')\n",
      "('Luana', 'Aya')\n",
      "('Luana', 'Silvana')\n",
      "('Luana', 'Elena')\n",
      "('Luana', 'Aurelie')\n",
      "('Sabine', 'Masako')\n",
      "('Sabine', 'Fanny')\n",
      "('Sabine', 'Hyekyoung')\n",
      "('Sabine', 'Elrid')\n",
      "('Sabine', 'Cintia')\n",
      "('Sabine', 'Aya')\n",
      "('Sabine', 'Silvana')\n",
      "('Sabine', 'Elena')\n",
      "('Sabine', 'Aurelie')\n",
      "('Masako', 'Fanny')\n",
      "('Masako', 'Hyekyoung')\n",
      "('Masako', 'Elrid')\n",
      "('Masako', 'Cintia')\n",
      "('Masako', 'Aya')\n",
      "('Masako', 'Silvana')\n",
      "('Masako', 'Elena')\n",
      "('Masako', 'Aurelie')\n",
      "('Fanny', 'Hyekyoung')\n",
      "('Fanny', 'Elrid')\n",
      "('Fanny', 'Cintia')\n",
      "('Fanny', 'Aya')\n",
      "('Fanny', 'Silvana')\n",
      "('Fanny', 'Elena')\n",
      "('Fanny', 'Aurelie')\n",
      "('Hyekyoung', 'Elrid')\n",
      "('Hyekyoung', 'Cintia')\n",
      "('Hyekyoung', 'Aya')\n",
      "('Hyekyoung', 'Silvana')\n",
      "('Hyekyoung', 'Elena')\n",
      "('Hyekyoung', 'Aurelie')\n",
      "('Elrid', 'Cintia')\n",
      "('Elrid', 'Aya')\n",
      "('Elrid', 'Silvana')\n",
      "('Elrid', 'Elena')\n",
      "('Elrid', 'Aurelie')\n",
      "('Cintia', 'Aya')\n",
      "('Cintia', 'Silvana')\n",
      "('Cintia', 'Elena')\n",
      "('Cintia', 'Aurelie')\n",
      "('Aya', 'Silvana')\n",
      "('Aya', 'Elena')\n",
      "('Aya', 'Aurelie')\n",
      "('Silvana', 'Elena')\n",
      "('Silvana', 'Aurelie')\n",
      "('Elena', 'Aurelie')\n"
     ]
    }
   ],
   "source": [
    "# Task 5: In a drinking game, everyone should play with everyone. \n",
    "#Display the corresponding list of game pairs (Name, Name).\n",
    "\n",
    "c.execute('''\n",
    "SELECT person.name\n",
    "FROM person\n",
    "''')\n",
    "all_people= c.fetchall()\n",
    "all_people = [x[0] for x in all_people]\n",
    "\n",
    "matches = []\n",
    "\n",
    "for x in range(len(all_people)):\n",
    "    for z in range(x + 1, len(all_people)):\n",
    "        if x != z:\n",
    "            matches.append((all_people[x],(all_people[z])))\n",
    "print(\"Task 5: Here's the list of all round paired playes for the drinking game:\\n\"+ '\\n'.join(map(str, matches)))"
   ]
  },
  {
   "cell_type": "code",
   "execution_count": 7,
   "id": "e941d8db",
   "metadata": {},
   "outputs": [
    {
     "name": "stdout",
     "output_type": "stream",
     "text": [
      "Task 6: Here's the list of  names of all glasses and cocktails:\n",
      "BlauerBaum, Floete, Cola_gruen, Down, Schwenker, Knieweich, Kelch, BlaueOma, Schale, Bond007, Donnergurgler, Stiefel, Pot, Russentod, GelbeHose, Bierglas, Alexander, Cocktailglas, Americano, Bronx, Manhattan, Stinger, Daiquiri, Tumbler, Zombie, Longdrinkglas\n"
     ]
    }
   ],
   "source": [
    "# Task 6: Display the names of all glasses and cocktails in a single-column table. Use a suitable quantity operation.\n",
    "\n",
    "c.execute('''\n",
    "SELECT cocktail.cname,\n",
    "    glas.gname\n",
    "FROM Glas, cocktail\n",
    "WHERE cocktail.gid = glas.gid\n",
    "''')\n",
    "gs_and_cs= c.fetchall()\n",
    "all_gscs = [z for x in gs_and_cs for z in x if z != None]\n",
    "all_gscs = list(dict.fromkeys(all_gscs)) \n",
    "print(\"Task 6: Here's the list of  names of all glasses and cocktails:\\n\"+(', '.join(all_gscs)))"
   ]
  },
  {
   "cell_type": "code",
   "execution_count": 8,
   "id": "83a60d50",
   "metadata": {},
   "outputs": [
    {
     "name": "stdout",
     "output_type": "stream",
     "text": [
      "Task 7: This are the cocktails which recipe are still not in the database:\n",
      "BlauerBaum, Russentod, Donnergurgler, Cola_gruen, Down, Alexander, Americano, Bronx, Daiquiri, Stinger, Zombie\n"
     ]
    }
   ],
   "source": [
    "# Task 7: for which cocktails there is still no recipe in the database \n",
    "# (which cocktails are not mentioned in INGREDIENT_COCKTAIL)?\n",
    " \n",
    "c.execute('''\n",
    "SELECT cocktail.cname \n",
    "FROM cocktail \n",
    "WHERE cocktail.cname NOT IN (\n",
    "    SELECT cocktail.cname \n",
    "    from ingredient_cocktail\n",
    "    WHERE cocktail.cid = ingredient_cocktail.cid)\n",
    "''')\n",
    "c_ing_missing= c.fetchall()\n",
    "c_ing_missing = [x[0] for x in c_ing_missing]\n",
    "print(\"Task 7: This are the cocktails which recipe are still not in the database:\\n\"+(', '.join(c_ing_missing)))"
   ]
  },
  {
   "cell_type": "code",
   "execution_count": 9,
   "id": "9e631bee",
   "metadata": {},
   "outputs": [
    {
     "name": "stdout",
     "output_type": "stream",
     "text": [
      "Task 8: This are the restaurants where Knieweich is not serverd:\n",
      "Klamauk, Alcatraz, El Greco, Falstaff, Rubens, P 70, Zum Alten Dessauer\n"
     ]
    }
   ],
   "source": [
    "# Task 8:  In which restaurants is no Knieweich served?\n",
    "\n",
    "c.execute('''\n",
    "SELECT local.lname\n",
    "FROM local\n",
    "WHERE local.lid NOT IN (\n",
    "    SELECT cocktail_local.lid\n",
    "    FROM cocktail_local\n",
    "    WHERE cocktail_local.cid = (\n",
    "        SELECT cocktail.cid\n",
    "        FROM cocktail\n",
    "        WHERE cocktail.cname='Knieweich'\n",
    "    )\n",
    ")\n",
    "''')\n",
    "rest_not_knieweich= c.fetchall()\n",
    "rest_not_knieweich = [x[0] for x in rest_not_knieweich]\n",
    "print(\"Task 8: This are the restaurants where Knieweich is not serverd:\\n\"+(', '.join(rest_not_knieweich)))"
   ]
  },
  {
   "cell_type": "code",
   "execution_count": 10,
   "id": "49165adc",
   "metadata": {},
   "outputs": [
    {
     "name": "stdout",
     "output_type": "stream",
     "text": [
      "Task 9: Table was created and added to the database.\n"
     ]
    }
   ],
   "source": [
    "# Task 9: Create a MY_COCKTAILS table that has the same structure as COCKTAIL. \n",
    "# Insert the contents of table COCKTAIL into MY_COCKTAILS at the same time. \n",
    "# You execute all subsequent changes exclusively on MY_COCKTAILS.\n",
    "\n",
    "c.execute(''' \n",
    "CREATE TABLE IF NOT EXISTS My_Cocktails AS\n",
    "    SELECT cid, cname, alkoholisch, gid\n",
    "    FROM cocktail\n",
    "''')\n",
    "#conn.commit() # this line is commented out since if executed again it would add this row again,\n",
    "# since python is being used the IGNORE command does not work.\n",
    "print(\"Task 9: Table was created and added to the database.\")"
   ]
  },
  {
   "cell_type": "code",
   "execution_count": 11,
   "id": "f1a88d0f",
   "metadata": {},
   "outputs": [
    {
     "name": "stdout",
     "output_type": "stream",
     "text": [
      "Task 10: New row with new cocktail created in My_Cocktails.\n"
     ]
    }
   ],
   "source": [
    "# Task 10: insert a new cocktail \"Purple cow\" in the table MY_COCKTAILS. \n",
    "# The cocktail is alcoholic, served in a snifter and has the ID 18.\n",
    "\n",
    "c.execute('''DELETE FROM My_Cocktails WHERE My_Cocktails.cid = 18''')# so it doenst doubles again if the code is executed again.\n",
    "\n",
    "c.execute('''\n",
    "INSERT INTO My_Cocktails (cid, cname, alkoholisch, gid)\n",
    "VALUES (18,'Purple cow', 'y', (\n",
    "    SELECT glas.gid\n",
    "    FROM glas\n",
    "    WHERE glas.gname= 'Schwenker'))\n",
    "''')\n",
    "#conn.commit()     # this line is commented out since if executed again it would add this row again,\n",
    "# since python is being used the IGNORE command does not work.\n",
    "print(\"Task 10: New row with new cocktail created in My_Cocktails.\")"
   ]
  },
  {
   "cell_type": "code",
   "execution_count": 12,
   "id": "7b128fd1",
   "metadata": {},
   "outputs": [
    {
     "name": "stdout",
     "output_type": "stream",
     "text": [
      "Task 11: Purple Cow cocktail renamed to Blue Cow.\n"
     ]
    }
   ],
   "source": [
    "# Task 11: The cocktail \"Purple Cow\" is actually called \"Blue Cow\". Correct this mistake. \n",
    "\n",
    "c.execute('''\n",
    "UPDATE My_Cocktails\n",
    "SET cname = 'Blue Cow'\n",
    "WHERE cname = 'Purple cow'\n",
    "''')\n",
    "print(\"Task 11: Purple Cow cocktail renamed to Blue Cow.\")"
   ]
  },
  {
   "cell_type": "code",
   "execution_count": 13,
   "id": "723928b7",
   "metadata": {},
   "outputs": [
    {
     "name": "stdout",
     "output_type": "stream",
     "text": [
      "Task 12: My_Ingredient table created and Knieweich's ingredients alcohol content was corrected.\n"
     ]
    }
   ],
   "source": [
    "#Task 12:  first create a table MY_INGREDIENT that has the same structure as INGREDIENT. \n",
    "# Let's assume that the alcohol content of all ingredients of the cocktail Knieweich is actually \n",
    "# twice as high as the entered value. Then correct this error in the MY_INGREDIENTS table.\n",
    "\n",
    "c.execute('''\n",
    "CREATE TABLE IF NOT EXISTS My_Ingredient AS\n",
    "    SELECT zid, zname, alkoholgehalt\n",
    "    FROM ingredient\n",
    "''')\n",
    "\n",
    "c.execute('''\n",
    "UPDATE My_Ingredient\n",
    "SET alkoholgehalt = alkoholgehalt * 2\n",
    "WHERE zid IN (\n",
    "    SELECT Ingredient_Cocktail.zid\n",
    "    FROM Ingredient_Cocktail\n",
    "    WHERE Ingredient_Cocktail.cid = (\n",
    "        SELECT cocktail.cid\n",
    "        FROM cocktail\n",
    "        WHERE cocktail.cname='Knieweich'))\n",
    "''')\n",
    "print(\"Task 12: My_Ingredient table created and Knieweich's ingredients alcohol content was corrected.\")"
   ]
  },
  {
   "cell_type": "code",
   "execution_count": 14,
   "id": "27478c98",
   "metadata": {},
   "outputs": [
    {
     "name": "stdout",
     "output_type": "stream",
     "text": [
      "Task 13: Cocktails that contained the ingredient 'Campari' were deleted.\n"
     ]
    }
   ],
   "source": [
    "# Task 13: Delete all cocktails from the MY_COCKTAILS table that contain \"Campari\" as an ingredient.\n",
    "\n",
    "c.execute('''\n",
    "DELETE \n",
    "FROM My_cocktails \n",
    "WHERE My_cocktails.cid IN (\n",
    "    SELECT Ingredient_Cocktail.cid\n",
    "    FROM Ingredient_Cocktail\n",
    "    WHERE Ingredient_Cocktail.zid = (\n",
    "        SELECT ingredient.zid\n",
    "        FROM ingredient\n",
    "        WHERE ingredient.zname='Campari'\n",
    "    )\n",
    ")\n",
    "''')\n",
    "print(\"Task 13: Cocktails that contained the ingredient 'Campari' were deleted.\")"
   ]
  },
  {
   "cell_type": "code",
   "execution_count": 15,
   "id": "bf66d803",
   "metadata": {},
   "outputs": [
    {
     "name": "stdout",
     "output_type": "stream",
     "text": [
      "Task 14: This are the restaurants that offer the cocktails with the ID 8 or 11:\n",
      "Falstaff, Le Petit, Rubens\n"
     ]
    }
   ],
   "source": [
    "# Task 14: which restaurants offer cocktails with ID 8 or ID 11?\n",
    "\n",
    "c.execute('''\n",
    "SELECT local.lname\n",
    "FROM local\n",
    "WHERE local.lid IN (\n",
    "    SELECT cocktail_local.lid\n",
    "    FROM cocktail_local\n",
    "    WHERE cocktail_local.cid=8 OR cocktail_local.cid=11\n",
    "    )\n",
    "''')\n",
    "rest_cock_8or11= c.fetchall()\n",
    "rest_cock_8or11 = [x[0] for x in rest_cock_8or11]\n",
    "print(\"Task 14: This are the restaurants that offer the cocktails with the ID 8 or 11:\\n\"+(', '.join(rest_cock_8or11)))"
   ]
  },
  {
   "cell_type": "code",
   "execution_count": 16,
   "id": "62d81aa2",
   "metadata": {},
   "outputs": [
    {
     "name": "stdout",
     "output_type": "stream",
     "text": [
      "Task 15: This are the cocktails that are alcoholic and are served in the Cocktail Glass:\n",
      "Alexander, Americano, Bronx, Manhattan, Stinger\n"
     ]
    }
   ],
   "source": [
    "# Task 15: Which cocktail is alcoholic and is served in the 'cocktailglas'?\n",
    "\n",
    "c.execute('''\n",
    "SELECT cocktail.cname\n",
    "FROM cocktail\n",
    "WHERE cocktail.alkoholisch='y' AND cocktail.gid IN (\n",
    "    SELECT glas.gid\n",
    "    FROM glas\n",
    "    WHERE glas.gname='Cocktailglas'\n",
    "    )\n",
    "''')\n",
    "cockglas_alco= c.fetchall()\n",
    "cockglas_alco = [x[0] for x in cockglas_alco]\n",
    "print(\"Task 15: This are the cocktails that are alcoholic and are served in the Cocktail Glass:\\n\"+(', '.join(cockglas_alco)))"
   ]
  },
  {
   "cell_type": "code",
   "execution_count": 17,
   "id": "8a49b211",
   "metadata": {},
   "outputs": [
    {
     "name": "stdout",
     "output_type": "stream",
     "text": [
      "Task 16: This are the glasses that are never used in any cocktail:\n",
      "Weinglas, Sektglas, Bierkrug, Flasche\n"
     ]
    }
   ],
   "source": [
    "# Task 16: Which glasses are never used?\n",
    "\n",
    "c.execute('''\n",
    "SELECT glas.gname \n",
    "FROM glas \n",
    "WHERE glas.gid NOT IN (\n",
    "    SELECT cocktail.gid \n",
    "    FROM cocktail)\n",
    "''')\n",
    "g_not_used= c.fetchall()\n",
    "g_not_used = [x[0] for x in g_not_used]\n",
    "print(\"Task 16: This are the glasses that are never used in any cocktail:\\n\"+(', '.join(g_not_used)))"
   ]
  },
  {
   "cell_type": "code",
   "execution_count": 18,
   "id": "9800a1f7",
   "metadata": {},
   "outputs": [
    {
     "name": "stdout",
     "output_type": "stream",
     "text": [
      "Task 17: This are the cocktails that are talked about:\n",
      "Americano, Bronx, Daiquiri, Manhattan, Stinger, Zombie\n"
     ]
    }
   ],
   "source": [
    "# Task 17: which cocktails do you talk about (table COCKTAIL _PERSON)? \n",
    "#Output the names of the cocktails!\n",
    " \n",
    "c.execute('''\n",
    "SELECT cocktail.cname \n",
    "FROM cocktail \n",
    "WHERE cocktail.cid IN (\n",
    "    SELECT Cocktail_person.cid \n",
    "    FROM Cocktail_person)\n",
    "''')\n",
    "talk_cocktails= c.fetchall()\n",
    "talk_cocktails = [x[0] for x in talk_cocktails]\n",
    "print(\"Task 17: This are the cocktails that are talked about:\\n\"+(', '.join(talk_cocktails)))"
   ]
  },
  {
   "cell_type": "code",
   "execution_count": 19,
   "id": "44a403c6",
   "metadata": {},
   "outputs": [
    {
     "name": "stdout",
     "output_type": "stream",
     "text": [
      "Task 18:\n",
      "This are the ingredients that have an alcohol content between 0 and 50 according to the table Ingredients (not My_Ingredientes):\n",
      "Tequila, Curacao Triple Sec, Limettensaft, Apricot Brandy, Ananassaft, Zitronensaft, Weinbrand, Creme de Menthe, Cointreau, Canadian Whisky, Vermouth rosso, Campari\n"
     ]
    }
   ],
   "source": [
    "# Task 18: Which ingredients have an alcohol content between 0 and 50?\n",
    "\n",
    "c.execute('''\n",
    "SELECT ingredient.zname \n",
    "FROM ingredient \n",
    "WHERE ingredient.alkoholgehalt BETWEEN 0 AND 50\n",
    "''')\n",
    "ing_alcohol= c.fetchall()\n",
    "ing_alcohol = [x[0] for x in ing_alcohol]\n",
    "print(\"Task 18:\\nThis are the ingredients that have an alcohol content between 0 and 50 according to the table Ingredients (not My_Ingredientes):\\n\"+(', '.join(ing_alcohol)))\n"
   ]
  },
  {
   "cell_type": "code",
   "execution_count": 20,
   "id": "69d31fb0",
   "metadata": {},
   "outputs": [
    {
     "name": "stdout",
     "output_type": "stream",
     "text": [
      "Task 19: This are the personal names begin with S:\n",
      "Sabine, Silvana\n"
     ]
    }
   ],
   "source": [
    "# Task 19: What personal names begin with S?\n",
    "\n",
    "c.execute('''\n",
    "SELECT person.name \n",
    "FROM person \n",
    "WHERE person.name LIKE 'S%'\n",
    "''')\n",
    "name_s= c.fetchall()\n",
    "name_s = [x[0] for x in name_s]\n",
    "print(\"Task 19: This are the personal names begin with S:\\n\"+(', '.join(name_s)))"
   ]
  },
  {
   "cell_type": "code",
   "execution_count": 21,
   "id": "e4755d59",
   "metadata": {},
   "outputs": [
    {
     "name": "stdout",
     "output_type": "stream",
     "text": [
      "Task 20: All places serve cocktails.\n"
     ]
    }
   ],
   "source": [
    "# Task 20: Is there a place that doesn't serve cocktails?\n",
    "\n",
    "c.execute('''\n",
    "SELECT IFNULL (max('All places serve cocktails.'), 'Some places do not serve any cocktails.')\n",
    "FROM  Cocktail_local\n",
    "WHERE Cocktail_local.lid IN (\n",
    "    SELECT local.lid\n",
    "    FROM local\n",
    ")\n",
    "''')\n",
    "if_local_serves_cocktails= c.fetchall()\n",
    "if_local_serves_cocktails = [x[0] for x in if_local_serves_cocktails]\n",
    "print(\"Task 20: \"+(', '.join(if_local_serves_cocktails)))"
   ]
  },
  {
   "cell_type": "code",
   "execution_count": 22,
   "id": "82ec4157",
   "metadata": {},
   "outputs": [
    {
     "name": "stdout",
     "output_type": "stream",
     "text": [
      "Task 21: There are 14 ingredients in total.\n"
     ]
    }
   ],
   "source": [
    "# Task 21: How many ingredients are there?\n",
    "\n",
    "c.execute('''\n",
    "SELECT COUNT(DISTINCT ingredient.zid) \n",
    "FROM ingredient\n",
    "''') #counting all rows except null or duplicates\n",
    "count_ing= c.fetchall()\n",
    "count_ing = [x[0] for x in count_ing]\n",
    "print(\"Task 21: There are \"+(str(count_ing)[1:-1])+\" ingredients in total.\")"
   ]
  },
  {
   "cell_type": "code",
   "execution_count": 23,
   "id": "d119ba0a",
   "metadata": {},
   "outputs": [
    {
     "name": "stdout",
     "output_type": "stream",
     "text": [
      "Task 22:\n",
      "There average of alcohol content of the ingredients is 29.214285714285715, or 29 if rounded up, according to the table Ingredients (not My_Ingredientes)\n"
     ]
    }
   ],
   "source": [
    "# Task 22: What is the average alcohol content of the ingredients?\n",
    "\n",
    "c.execute('''\n",
    "SELECT avg(ingredient.alkoholgehalt) \n",
    "FROM ingredient\n",
    "''')\n",
    "avg_alcohol= c.fetchall()\n",
    "avg_alcohol = avg_alcohol[0][0]\n",
    "avg_alcohol_rounded = round(float(avg_alcohol))\n",
    "print(f\"Task 22:\\nThere average of alcohol content of the ingredients is {avg_alcohol}, or {avg_alcohol_rounded} if rounded up, according to the table Ingredients (not My_Ingredientes)\")"
   ]
  },
  {
   "cell_type": "code",
   "execution_count": 24,
   "id": "ebb31378",
   "metadata": {},
   "outputs": [
    {
     "name": "stdout",
     "output_type": "stream",
     "text": [
      "Task 23: There average of alcohol content of the ingredients without using the AVG() function is 29.\n"
     ]
    }
   ],
   "source": [
    "# Task 23: What is the average alcohol content of the ingredients? (Without AVG() function.)\n",
    "\n",
    "c.execute('''\n",
    "SELECT SUM(ingredient.alkoholgehalt) / COUNT (ingredient.alkoholgehalt)\n",
    "FROM ingredient\n",
    "''')\n",
    "sum_count_ing= c.fetchall()\n",
    "print(f\"Task 23: There average of alcohol content of the ingredients without using the AVG() function is {sum_count_ing[0][0]}.\")\n"
   ]
  },
  {
   "cell_type": "code",
   "execution_count": 25,
   "id": "309a08b5",
   "metadata": {},
   "outputs": [
    {
     "name": "stdout",
     "output_type": "stream",
     "text": [
      "Task 24(a):\n",
      "This are the number of ingredients per cocktail:\n",
      "The cocktail Bond007 has 1 ingredient.\n",
      "The cocktail Knieweich has 3 ingredients.\n",
      "The cocktail BlaueOma has 1 ingredient.\n",
      "The cocktail GelbeHose has 2 ingredients.\n",
      "The cocktail Pot has 3 ingredients.\n",
      "The cocktail Manhattan has 5 ingredients.\n"
     ]
    }
   ],
   "source": [
    "# Task 24: A cocktail consists of several ingredients. \n",
    "# The number of units of each Ingredients per cocktail are listed in the table INGREDIENT_COCKTAIL.\n",
    "\n",
    "#(a) The number of ingredients per cocktail.\n",
    "\n",
    "c.execute('''\n",
    "SELECT Cocktail.cname,\n",
    "    COUNT(Ingredient_Cocktail.zid)\n",
    "FROM Ingredient_Cocktail, Cocktail\n",
    "WHERE Ingredient_Cocktail.cid = Cocktail.cid\n",
    "GROUP BY Cocktail.cid\n",
    "''')\n",
    "ing_per_cocktail = c.fetchall()\n",
    "print(\"Task 24(a):\\nThis are the number of ingredients per cocktail:\")\n",
    "for i in ing_per_cocktail:\n",
    "    if i[1] == 1:\n",
    "        print(f\"The cocktail {i[0]} has {i[1]} ingredient.\")\n",
    "    else: print(f\"The cocktail {i[0]} has {i[1]} ingredients.\")"
   ]
  },
  {
   "cell_type": "code",
   "execution_count": 26,
   "id": "99bdc3df",
   "metadata": {},
   "outputs": [
    {
     "name": "stdout",
     "output_type": "stream",
     "text": [
      "Task 24(b):\n",
      "This are the number of ingredients for the cocktails that require more than 2:\n",
      "The cocktail Knieweich has 3 ingredients.\n",
      "The cocktail Pot has 3 ingredients.\n",
      "The cocktail Manhattan has 5 ingredients.\n"
     ]
    }
   ],
   "source": [
    "#(b) The number of ingredients per cocktail is required, but only for cocktails with more than 2 ingredients.\n",
    "\n",
    "c.execute('''\n",
    "SELECT Cocktail.cname,\n",
    "    COUNT(Ingredient_Cocktail.zid)\n",
    "FROM Ingredient_Cocktail, Cocktail\n",
    "WHERE Ingredient_Cocktail.cid = Cocktail.cid\n",
    "GROUP BY Cocktail.cid\n",
    "HAVING COUNT(*) > 2\n",
    "''')\n",
    "more_than_2_ing = c.fetchall()\n",
    "print(\"Task 24(b):\\nThis are the number of ingredients for the cocktails that require more than 2:\")\n",
    "for i in more_than_2_ing:\n",
    "    print(f\"The cocktail {i[0]} has {i[1]} ingredients.\")"
   ]
  },
  {
   "cell_type": "code",
   "execution_count": 27,
   "id": "cb55765c",
   "metadata": {},
   "outputs": [
    {
     "name": "stdout",
     "output_type": "stream",
     "text": [
      "Task 24(c):\n",
      "This are the units of measure of the respective ingredients per cocktail:\n",
      "The cocktail Bond007 has 56 units.\n",
      "The cocktail Knieweich has 150 units.\n",
      "The cocktail BlaueOma has 45 units.\n",
      "The cocktail GelbeHose has 200 units.\n",
      "The cocktail Pot has 161 units.\n",
      "The cocktail Manhattan has 115 units.\n"
     ]
    }
   ],
   "source": [
    "#(c) The sum of the units of measure of the respective ingredients per cocktail is sought.\n",
    "\n",
    "c.execute('''\n",
    "SELECT Cocktail.cname,\n",
    "    SUM(Ingredient_Cocktail.menge)\n",
    "FROM Ingredient_Cocktail, Cocktail\n",
    "WHERE Ingredient_Cocktail.cid = Cocktail.cid\n",
    "GROUP BY Ingredient_Cocktail.cid\n",
    "''')\n",
    "ing_units = c.fetchall()\n",
    "print(\"Task 24(c):\\nThis are the units of measure of the respective ingredients per cocktail:\")\n",
    "for i in ing_units:\n",
    "    print(f\"The cocktail {i[0]} has {i[1]} units.\")"
   ]
  },
  {
   "cell_type": "code",
   "execution_count": 28,
   "id": "0f946b49",
   "metadata": {},
   "outputs": [
    {
     "name": "stdout",
     "output_type": "stream",
     "text": [
      "Task 24(d):\n",
      "This are the units of measure of the respective alcoholic ingredients per cocktail:\n",
      "The cocktail BlaueOma has 45 units.\n",
      "The cocktail GelbeHose has 150 units.\n",
      "The cocktail Knieweich has 100 units.\n",
      "The cocktail Manhattan has 115 units.\n",
      "The cocktail Pot has 161 units.\n"
     ]
    }
   ],
   "source": [
    "#(d) The sum of the units of measure of the respective alcoholic ingredients per cocktail is sought.\n",
    "\n",
    "c.execute('''\n",
    "SELECT Cocktail.cname,\n",
    "    SUM(Ingredient_Cocktail.menge)\n",
    "FROM Ingredient_Cocktail, Cocktail, Ingredient\n",
    "WHERE Ingredient_Cocktail.cid = Cocktail.cid AND\n",
    "    Ingredient_Cocktail.zid = Ingredient.zid AND\n",
    "    Ingredient.alkoholgehalt != 0\n",
    "GROUP BY Cocktail.cname\n",
    "''')\n",
    "ing_units_alcoholic = c.fetchall()\n",
    "print(\"Task 24(d):\\nThis are the units of measure of the respective alcoholic ingredients per cocktail:\")\n",
    "for i in ing_units_alcoholic:\n",
    "    print(f\"The cocktail {i[0]} has {i[1]} units.\")"
   ]
  },
  {
   "cell_type": "code",
   "execution_count": 29,
   "id": "1767fcd3",
   "metadata": {},
   "outputs": [
    {
     "name": "stdout",
     "output_type": "stream",
     "text": [
      "Task 25:\n",
      "This the real alcohol content per cocktail:\n",
      "The Bond007 cocktail real alcohol content is 0.\n",
      "The Knieweich cocktail real alcohol content is 24.\n",
      "The BlaueOma cocktail real alcohol content is 45.\n",
      "The GelbeHose cocktail real alcohol content is 33.\n",
      "The Pot cocktail real alcohol content is 27.\n",
      "The Manhattan cocktail real alcohol content is 35.\n"
     ]
    }
   ],
   "source": [
    "# Task 25: Determine the real alcohol content of all cocktails. \n",
    "# The real alcohol content is calculated from the sum of all \n",
    "# (alcohol content of the ingredient multiplied by the quantity units of the ingredient) \n",
    "# divided by the sum of all quantity units. Rename the attributes of the solution relation appropriately.\n",
    "\n",
    "c.execute('''\n",
    "SELECT cocktail.cname, a.alcool/b.quantidade\n",
    "FROM (\n",
    "    SELECT SUM(ingredient.alkoholgehalt*ingredient_cocktail.menge) alcool, cocktail.cid\n",
    "    FROM ingredient_cocktail, ingredient, cocktail\n",
    "    WHERE ingredient.zid = ingredient_cocktail.zid AND\n",
    "        ingredient_cocktail.cid = cocktail.cid\n",
    "    GROUP BY cocktail.cid\n",
    ") a,\n",
    "(\n",
    "    SELECT SUM(ingredient_cocktail.menge) quantidade, cocktail.cid\n",
    "    FROM ingredient_cocktail, cocktail\n",
    "    WHERE cocktail.cid = ingredient_cocktail.cid\n",
    "    GROUP BY ingredient_cocktail.cid\n",
    ") b, cocktail\n",
    "WHERE a.cid = b.cid AND cocktail.cid = a.cid\n",
    "''')\n",
    "real_alco_content = c.fetchall()\n",
    "print(\"Task 25:\\nThis the real alcohol content per cocktail:\")\n",
    "for i in real_alco_content:\n",
    "    print(f\"The {i[0]} cocktail real alcohol content is {i[1]}.\")"
   ]
  },
  {
   "cell_type": "code",
   "execution_count": 30,
   "id": "5f122495",
   "metadata": {},
   "outputs": [
    {
     "name": "stdout",
     "output_type": "stream",
     "text": [
      "Task 26:\n",
      "This are the served cocktails that posses the maximun and minimum alcohol content per restaurant:\n",
      "\n",
      "Restaurant Alcatraz: the drink with the maximum alcohol content is the 35 and drink with the minimum alcohol content is the 35.\n",
      "\n",
      "Restaurant CyberSpaceCafe Orbit: the drink with the maximum alcohol content is the 24 and drink with the minimum alcohol content is the 24.\n",
      "\n",
      "Restaurant Durango Saloon: the drink with the maximum alcohol content is the 24 and drink with the minimum alcohol content is the 24.\n",
      "\n",
      "Restaurant Exlibris: the drink with the maximum alcohol content is the 24 and drink with the minimum alcohol content is the 24.\n",
      "\n",
      "Restaurant Falstaff: the drink with the maximum alcohol content is the 33 and drink with the minimum alcohol content is the 33.\n",
      "\n",
      "Restaurant Klewitz: the drink with the maximum alcohol content is the 24 and drink with the minimum alcohol content is the 24.\n",
      "\n",
      "Restaurant Le Petit: the drink with the maximum alcohol content is the 33 and drink with the minimum alcohol content is the 24.\n",
      "\n",
      "Restaurant P 70: the drink with the maximum alcohol content is the 35 and drink with the minimum alcohol content is the 35.\n",
      "\n",
      "Restaurant Rubens: the drink with the maximum alcohol content is the 33 and drink with the minimum alcohol content is the 33.\n",
      "\n",
      "Restaurant Zum Alten Dessauer: the drink with the maximum alcohol content is the 35 and drink with the minimum alcohol content is the 35.\n",
      "\n",
      "Restaurant bagel: the drink with the maximum alcohol content is the 24 and drink with the minimum alcohol content is the 24.\n"
     ]
    }
   ],
   "source": [
    "# Task 26: suppose the output of task 26 is in a View called \"Cocktail_alcohol_Content\".\n",
    "# Determine the minimum and maximum of the alcohol content for the cocktails served in a restaurant.\n",
    "\n",
    "c.execute('''\n",
    "SELECT local.lname, max(a.alcool/b.quantidade), min(a.alcool/b.quantidade)\n",
    "FROM (\n",
    "    SELECT SUM(ingredient.alkoholgehalt*ingredient_cocktail.menge) alcool, cocktail.cid\n",
    "    FROM ingredient_cocktail, ingredient, cocktail\n",
    "    WHERE ingredient.zid = ingredient_cocktail.zid AND\n",
    "        ingredient_cocktail.cid = cocktail.cid\n",
    "    GROUP BY cocktail.cid\n",
    ") a,\n",
    "(\n",
    "    SELECT SUM(ingredient_cocktail.menge) quantidade, cocktail.cid\n",
    "    FROM ingredient_cocktail, cocktail\n",
    "    WHERE cocktail.cid = ingredient_cocktail.cid\n",
    "    GROUP BY ingredient_cocktail.cid\n",
    ") b, cocktail, local, cocktail_local\n",
    "WHERE a.cid = b.cid AND cocktail.cid = a.cid AND cocktail.cid = cocktail_local.cid AND cocktail_local.lid = local.lid\n",
    "group by local.lname\n",
    "''')\n",
    "max_min_bylocal = c.fetchall()\n",
    "print(\"Task 26:\\nThis are the served cocktails that posses the maximun and minimum alcohol content per restaurant:\")\n",
    "for i in max_min_bylocal:\n",
    "    print(f\"\\nRestaurant {i[0]}: the drink with the maximum alcohol content is the {i[1]} and drink with the minimum alcohol content is the {i[2]}.\")"
   ]
  },
  {
   "cell_type": "code",
   "execution_count": 31,
   "id": "85fb2e49",
   "metadata": {},
   "outputs": [
    {
     "name": "stdout",
     "output_type": "stream",
     "text": [
      "Task 27:\n",
      "This are the glasses that are used for more than 2 cocktails: Stiefel, Cocktailglas\n"
     ]
    }
   ],
   "source": [
    "# Task 27: output the names of the glasses used for more than 2 cocktails.\n",
    "\n",
    "c.execute('''\n",
    "SELECT glas.gname\n",
    "FROM glas, cocktail\n",
    "WHERE glas.gid = cocktail.gid\n",
    "GROUP BY glas.gid\n",
    "HAVING COUNT(cocktail.gid) > 2\n",
    "''')\n",
    "glasses_more_than_2 = c.fetchall()\n",
    "glasses_more_than_2 = [x[0] for x in glasses_more_than_2]\n",
    "print(f\"Task 27:\\nThis are the glasses that are used for more than 2 cocktails: {(', '.join(glasses_more_than_2))}\")"
   ]
  },
  {
   "cell_type": "code",
   "execution_count": null,
   "id": "4972d2aa",
   "metadata": {},
   "outputs": [],
   "source": []
  }
 ],
 "metadata": {
  "kernelspec": {
   "display_name": "Python 3 (ipykernel)",
   "language": "python",
   "name": "python3"
  },
  "language_info": {
   "codemirror_mode": {
    "name": "ipython",
    "version": 3
   },
   "file_extension": ".py",
   "mimetype": "text/x-python",
   "name": "python",
   "nbconvert_exporter": "python",
   "pygments_lexer": "ipython3",
   "version": "3.8.12"
  },
  "toc": {
   "base_numbering": 1,
   "nav_menu": {},
   "number_sections": true,
   "sideBar": true,
   "skip_h1_title": false,
   "title_cell": "Table of Contents",
   "title_sidebar": "Contents",
   "toc_cell": false,
   "toc_position": {},
   "toc_section_display": true,
   "toc_window_display": false
  }
 },
 "nbformat": 4,
 "nbformat_minor": 5
}
