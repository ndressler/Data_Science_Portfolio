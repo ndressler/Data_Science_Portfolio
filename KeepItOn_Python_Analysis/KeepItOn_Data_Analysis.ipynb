{
 "cells": [
  {
   "cell_type": "markdown",
   "id": "129507de",
   "metadata": {
    "slideshow": {
     "slide_type": "slide"
    }
   },
   "source": [
    "# <span style='color:red'> #KeepItOn </span> 📡 Data Analysis\n"
   ]
  },
  {
   "cell_type": "markdown",
   "id": "e818b9ce",
   "metadata": {
    "slideshow": {
     "slide_type": "subslide"
    }
   },
   "source": [
    "# __The Context:__\n",
    "\n",
    "Access Now is a growing international human rights organization dedicated to defending and extending the digital rights of users at risk around the world. This task falls within the #KeepItOn campaign, a global initiative to end internet shutdowns through advocacy, documentation and monitoring, direct policy-maker engagement, strategic litigation among others."
   ]
  },
  {
   "cell_type": "markdown",
   "id": "5bd54102",
   "metadata": {
    "slideshow": {
     "slide_type": "subslide"
    }
   },
   "source": [
    "***\n",
    "\n",
    "<span style='color:red'> My Considerations: </span>\n",
    "\n",
    "Technical problems found:\n",
    "- The data needed a lot of cleaning, a lot of durations are missing because of data inaccurate syntax, same values written differently, strings with extra spaces, read me file is somewhat confusing and probably outdated since it mentions columns that do not exist in the csv file given or have another name and presumably hold the same content.\n",
    "\n",
    "Solution:\n",
    "- Data cleaning;\n",
    "- Updating the read me methodology file.\n",
    "\n",
    "Next steps:\n",
    "- Ensure the data is cleaned for the database format before merging the data;\n",
    "- Keep a consistent checking and updating schedule for the STOP methodology;\n",
    "\n",
    "Further next steps to work with:\n",
    "- Check the correlation between the event and the impact caused in a deeper analysis (checking for example the corr of violent episodes and social media shutdowns and so on);\n",
    "- With historical data, attempt to predict when, where and how may a next shutdown occur, by using Machine Learning models;\n",
    "- Do a Twitter Sentiment Analysis for predicting forthcoming political shutdowns (since political instability accounts for more than 50% of STOP cases actual reason of being).\n",
    "***"
   ]
  },
  {
   "cell_type": "markdown",
   "id": "3963a0b9",
   "metadata": {
    "slideshow": {
     "slide_type": "slide"
    }
   },
   "source": [
    "## Initial code:"
   ]
  },
  {
   "cell_type": "code",
   "execution_count": 1,
   "id": "dbaa67e7",
   "metadata": {
    "slideshow": {
     "slide_type": "subslide"
    }
   },
   "outputs": [],
   "source": [
    "# main imports and functions for all code performance\n",
    "\n",
    "import pandas as pd\n",
    "import numpy as np\n",
    "import matplotlib.pyplot as plt\n",
    "from collections import Counter\n",
    "\n",
    "def make_autopct(values):\n",
    "    def my_autopct(pct):\n",
    "        total = sum(values)\n",
    "        val = int(round(pct*total/100.0))\n",
    "        return '{p:.2f}%  ({v:d})'.format(p=pct,v=val)\n",
    "    return my_autopct\n",
    "\n",
    "def count_columns(x):\n",
    "    for c in x.columns:\n",
    "        print(\"---- %s ---\" % c)\n",
    "        print(f\"{x[c].value_counts().nlargest().to_string()}\\n\\n\")\n",
    "        \n",
    "        \n",
    "\n",
    "df = pd.read_csv('KeepItOn-STOP-Data-2020.csv', header=1)"
   ]
  },
  {
   "cell_type": "markdown",
   "id": "affa6b5d",
   "metadata": {
    "slideshow": {
     "slide_type": "slide"
    }
   },
   "source": [
    "Data Cleaning:\n",
    "\n",
    "- remove duplicates\n",
    "- remove the white space from the column name as well as the content\n",
    "- format the type of data\n",
    "- make all lower case\n",
    "- format the type of data\n",
    "- drop columns that have no data"
   ]
  },
  {
   "cell_type": "code",
   "execution_count": 2,
   "id": "d6a0575b",
   "metadata": {
    "slideshow": {
     "slide_type": "subslide"
    }
   },
   "outputs": [],
   "source": [
    "# remove duplicates\n",
    "\n",
    "df = df.drop_duplicates(subset=None, keep='first', inplace=False, ignore_index=False)"
   ]
  },
  {
   "cell_type": "code",
   "execution_count": 3,
   "id": "fc1bb5e0",
   "metadata": {
    "slideshow": {
     "slide_type": "subslide"
    }
   },
   "outputs": [],
   "source": [
    "# remove the white space from the column names\n",
    "\n",
    "df.columns = df.columns.str.replace(' ', '')\n",
    "col_names = []\n",
    "for col in df.columns:\n",
    "    col_names.append(col)"
   ]
  },
  {
   "cell_type": "code",
   "execution_count": 4,
   "id": "a5c59f52",
   "metadata": {},
   "outputs": [],
   "source": [
    "# remove the white space from the data\n",
    "\n",
    "df = df.applymap(lambda x: x.strip() if isinstance(x, str) else x)\n",
    "df = df.rename(columns={'fullorservice-based': 'full_or_service-based'})"
   ]
  },
  {
   "cell_type": "code",
   "execution_count": 5,
   "id": "c158723f",
   "metadata": {},
   "outputs": [],
   "source": [
    "# make all lower case\n",
    "\n",
    "df = df.applymap(lambda x: x.lower() if isinstance(x, str) else x)\n",
    "df.columns = [col.lower() for col in df.columns]"
   ]
  },
  {
   "cell_type": "code",
   "execution_count": 6,
   "id": "2a3d520d",
   "metadata": {},
   "outputs": [],
   "source": [
    "# format the type of data\n",
    "\n",
    "df['start_date'] = df['start_date'].astype('datetime64')\n",
    "df['end_date'] = pd.to_datetime(df['end_date'], errors='coerce')"
   ]
  },
  {
   "cell_type": "code",
   "execution_count": 7,
   "id": "aef7dbc6",
   "metadata": {},
   "outputs": [],
   "source": [
    "# drop columns that have no data\n",
    "\n",
    "mask = df.isna().all()\n",
    "nan_cols = mask[mask].index.tolist()\n",
    "\n",
    "df = df.drop(columns=nan_cols)"
   ]
  },
  {
   "cell_type": "code",
   "execution_count": 8,
   "id": "6dde7bb9",
   "metadata": {
    "scrolled": true
   },
   "outputs": [
    {
     "data": {
      "text/html": [
       "<div>\n",
       "<style scoped>\n",
       "    .dataframe tbody tr th:only-of-type {\n",
       "        vertical-align: middle;\n",
       "    }\n",
       "\n",
       "    .dataframe tbody tr th {\n",
       "        vertical-align: top;\n",
       "    }\n",
       "\n",
       "    .dataframe thead th {\n",
       "        text-align: right;\n",
       "    }\n",
       "</style>\n",
       "<table border=\"1\" class=\"dataframe\">\n",
       "  <thead>\n",
       "    <tr style=\"text-align: right;\">\n",
       "      <th></th>\n",
       "      <th>id</th>\n",
       "      <th>start_date</th>\n",
       "      <th>end_date</th>\n",
       "      <th>duration</th>\n",
       "      <th>info_source</th>\n",
       "      <th>news_link</th>\n",
       "      <th>continent</th>\n",
       "      <th>country</th>\n",
       "      <th>state/india</th>\n",
       "      <th>geo_scope</th>\n",
       "      <th>area_name</th>\n",
       "      <th>ordered_by</th>\n",
       "      <th>decision_maker</th>\n",
       "      <th>shutdown_type_new</th>\n",
       "      <th>affected_network</th>\n",
       "      <th>full_or_service-based</th>\n",
       "      <th>facebook_affected</th>\n",
       "      <th>twitter_affected</th>\n",
       "      <th>whatsapp_affected</th>\n",
       "      <th>instagram_affected</th>\n",
       "      <th>telegram_affected</th>\n",
       "      <th>other_service_details(specify)</th>\n",
       "      <th>sms_affected</th>\n",
       "      <th>phone_call_affected</th>\n",
       "      <th>telcos_involved</th>\n",
       "      <th>gov_ack</th>\n",
       "      <th>official_just</th>\n",
       "      <th>other_just_details</th>\n",
       "      <th>off_statement</th>\n",
       "      <th>actual_cause</th>\n",
       "      <th>other_cause_details</th>\n",
       "      <th>election</th>\n",
       "      <th>violence</th>\n",
       "      <th>hr_abuse_reported</th>\n",
       "      <th>users_notified</th>\n",
       "      <th>users_affected/targetted</th>\n",
       "      <th>legal_justif</th>\n",
       "      <th>legal_method</th>\n",
       "      <th>telco_resp</th>\n",
       "      <th>telco_ack</th>\n",
       "    </tr>\n",
       "  </thead>\n",
       "  <tbody>\n",
       "    <tr>\n",
       "      <th>0</th>\n",
       "      <td>1</td>\n",
       "      <td>2016-06-12</td>\n",
       "      <td>NaT</td>\n",
       "      <td>NaN</td>\n",
       "      <td>news media article</td>\n",
       "      <td>https://slate.com/technology/2017/08/the-inter...</td>\n",
       "      <td>asia</td>\n",
       "      <td>pakistan</td>\n",
       "      <td>NaN</td>\n",
       "      <td>level 2</td>\n",
       "      <td>federally administered tribal area</td>\n",
       "      <td>executive government</td>\n",
       "      <td>NaN</td>\n",
       "      <td>shutdown</td>\n",
       "      <td>broadband, mobile</td>\n",
       "      <td>full network</td>\n",
       "      <td>no</td>\n",
       "      <td>no</td>\n",
       "      <td>no</td>\n",
       "      <td>no</td>\n",
       "      <td>no</td>\n",
       "      <td>NaN</td>\n",
       "      <td>unknown</td>\n",
       "      <td>unknown</td>\n",
       "      <td>NaN</td>\n",
       "      <td>yes</td>\n",
       "      <td>technical problems/ infrastructure failure</td>\n",
       "      <td>government said they will not be able to resto...</td>\n",
       "      <td>NaN</td>\n",
       "      <td>other</td>\n",
       "      <td>conflict between afghanistan and pakistan forces</td>\n",
       "      <td>no</td>\n",
       "      <td>no</td>\n",
       "      <td>no</td>\n",
       "      <td>no</td>\n",
       "      <td>NaN</td>\n",
       "      <td>no</td>\n",
       "      <td>NaN</td>\n",
       "      <td>NaN</td>\n",
       "      <td>unknown</td>\n",
       "    </tr>\n",
       "    <tr>\n",
       "      <th>1</th>\n",
       "      <td>2</td>\n",
       "      <td>2019-06-22</td>\n",
       "      <td>NaT</td>\n",
       "      <td>NaN</td>\n",
       "      <td>news media article</td>\n",
       "      <td>https://www.aljazeera.com/news/2020/6/21/inter...</td>\n",
       "      <td>asia</td>\n",
       "      <td>myanmar</td>\n",
       "      <td>NaN</td>\n",
       "      <td>level 2</td>\n",
       "      <td>myabon, ponnagyun, kyauktaw, and mrauk u towns...</td>\n",
       "      <td>executive government</td>\n",
       "      <td>myanmar ministry of transport and communicatio...</td>\n",
       "      <td>throttle</td>\n",
       "      <td>mobile</td>\n",
       "      <td>full network</td>\n",
       "      <td>no</td>\n",
       "      <td>no</td>\n",
       "      <td>no</td>\n",
       "      <td>no</td>\n",
       "      <td>no</td>\n",
       "      <td>NaN</td>\n",
       "      <td>no</td>\n",
       "      <td>no</td>\n",
       "      <td>NaN</td>\n",
       "      <td>yes</td>\n",
       "      <td>fake news/ hate speech/ incendiary content/ pr...</td>\n",
       "      <td>act of terrorism, acts of disturbance, and ill...</td>\n",
       "      <td>NaN</td>\n",
       "      <td>political instability</td>\n",
       "      <td>NaN</td>\n",
       "      <td>yes</td>\n",
       "      <td>yes</td>\n",
       "      <td>unknown</td>\n",
       "      <td>no</td>\n",
       "      <td>ethnic minorities</td>\n",
       "      <td>yes</td>\n",
       "      <td>acts of terrorism, act of disturbance, and ill...</td>\n",
       "      <td>https://www.telenor.com/internet-services-rest...</td>\n",
       "      <td>yes</td>\n",
       "    </tr>\n",
       "    <tr>\n",
       "      <th>2</th>\n",
       "      <td>3</td>\n",
       "      <td>2019-08-03</td>\n",
       "      <td>2020-01-25</td>\n",
       "      <td>175.0</td>\n",
       "      <td>NaN</td>\n",
       "      <td>https://www.news18.com/news/india/omar-abdulla...</td>\n",
       "      <td>asia</td>\n",
       "      <td>india</td>\n",
       "      <td>jammu and kashmir</td>\n",
       "      <td>level 2</td>\n",
       "      <td>kashmir valley</td>\n",
       "      <td>state government</td>\n",
       "      <td>state government</td>\n",
       "      <td>shutdown</td>\n",
       "      <td>broadband, mobile</td>\n",
       "      <td>full network</td>\n",
       "      <td>no</td>\n",
       "      <td>no</td>\n",
       "      <td>no</td>\n",
       "      <td>no</td>\n",
       "      <td>no</td>\n",
       "      <td>NaN</td>\n",
       "      <td>yes</td>\n",
       "      <td>yes</td>\n",
       "      <td>india: bsnl</td>\n",
       "      <td>yes</td>\n",
       "      <td>fake news/ hate speech/ incendiary content/ pr...</td>\n",
       "      <td>NaN</td>\n",
       "      <td>https://twitter.com/netshutdowns/status/121715...</td>\n",
       "      <td>political instability</td>\n",
       "      <td>NaN</td>\n",
       "      <td>no</td>\n",
       "      <td>yes</td>\n",
       "      <td>yes</td>\n",
       "      <td>no</td>\n",
       "      <td>ethnic minorities, religious minorities</td>\n",
       "      <td>yes</td>\n",
       "      <td>section 144 crpc</td>\n",
       "      <td>NaN</td>\n",
       "      <td>unknown</td>\n",
       "    </tr>\n",
       "    <tr>\n",
       "      <th>3</th>\n",
       "      <td>4</td>\n",
       "      <td>2019-09-09</td>\n",
       "      <td>2020-08-28</td>\n",
       "      <td>354.0</td>\n",
       "      <td>news media article</td>\n",
       "      <td>https://www.hrw.org/news/2019/09/13/bangladesh...</td>\n",
       "      <td>asia</td>\n",
       "      <td>bangladesh</td>\n",
       "      <td>NaN</td>\n",
       "      <td>level 1</td>\n",
       "      <td>refugee camps in cox bazar district and penins...</td>\n",
       "      <td>executive government</td>\n",
       "      <td>bangladesh telecommunication regulatory commis...</td>\n",
       "      <td>throttle</td>\n",
       "      <td>mobile</td>\n",
       "      <td>full network</td>\n",
       "      <td>no</td>\n",
       "      <td>no</td>\n",
       "      <td>no</td>\n",
       "      <td>no</td>\n",
       "      <td>no</td>\n",
       "      <td>NaN</td>\n",
       "      <td>no</td>\n",
       "      <td>no</td>\n",
       "      <td>bangladesh: banglalink (global telecom)</td>\n",
       "      <td>yes</td>\n",
       "      <td>fake news/ hate speech/ incendiary content/ pr...</td>\n",
       "      <td>to stop baseless rumours and misinformation\" c...</td>\n",
       "      <td>NaN</td>\n",
       "      <td>protests</td>\n",
       "      <td>protests organized by refugees commemorating t...</td>\n",
       "      <td>no</td>\n",
       "      <td>no</td>\n",
       "      <td>no</td>\n",
       "      <td>no</td>\n",
       "      <td>ethnic minorities</td>\n",
       "      <td>yes</td>\n",
       "      <td>NaN</td>\n",
       "      <td>NaN</td>\n",
       "      <td>no</td>\n",
       "    </tr>\n",
       "    <tr>\n",
       "      <th>4</th>\n",
       "      <td>5</td>\n",
       "      <td>2020-01-01</td>\n",
       "      <td>2020-01-01</td>\n",
       "      <td>0.0</td>\n",
       "      <td>news media article</td>\n",
       "      <td>\"https://timesofindia.indiatimes.com/city/pune...</td>\n",
       "      <td>asia</td>\n",
       "      <td>india</td>\n",
       "      <td>maharashtra</td>\n",
       "      <td>level 2</td>\n",
       "      <td>koregaon bhima, perne village in pune district</td>\n",
       "      <td>local government</td>\n",
       "      <td>pune superintendent of police (rural) sandeep ...</td>\n",
       "      <td>shutdown</td>\n",
       "      <td>broadband, mobile</td>\n",
       "      <td>full network</td>\n",
       "      <td>no</td>\n",
       "      <td>no</td>\n",
       "      <td>no</td>\n",
       "      <td>no</td>\n",
       "      <td>no</td>\n",
       "      <td>NaN</td>\n",
       "      <td>unknown</td>\n",
       "      <td>unknown</td>\n",
       "      <td>NaN</td>\n",
       "      <td>yes</td>\n",
       "      <td>precautionary measure</td>\n",
       "      <td>NaN</td>\n",
       "      <td>https://timesofindia.indiatimes.com/city/pune/...</td>\n",
       "      <td>religious holiday/anniversary</td>\n",
       "      <td>202nd anniversary of battle of koregaon bhima:</td>\n",
       "      <td>no</td>\n",
       "      <td>no</td>\n",
       "      <td>no</td>\n",
       "      <td>no</td>\n",
       "      <td>NaN</td>\n",
       "      <td>no</td>\n",
       "      <td>no</td>\n",
       "      <td>NaN</td>\n",
       "      <td>unknown</td>\n",
       "    </tr>\n",
       "  </tbody>\n",
       "</table>\n",
       "</div>"
      ],
      "text/plain": [
       "   id start_date   end_date  duration         info_source  \\\n",
       "0   1 2016-06-12        NaT       NaN  news media article   \n",
       "1   2 2019-06-22        NaT       NaN  news media article   \n",
       "2   3 2019-08-03 2020-01-25     175.0                 NaN   \n",
       "3   4 2019-09-09 2020-08-28     354.0  news media article   \n",
       "4   5 2020-01-01 2020-01-01       0.0  news media article   \n",
       "\n",
       "                                           news_link continent     country  \\\n",
       "0  https://slate.com/technology/2017/08/the-inter...      asia    pakistan   \n",
       "1  https://www.aljazeera.com/news/2020/6/21/inter...      asia     myanmar   \n",
       "2  https://www.news18.com/news/india/omar-abdulla...      asia       india   \n",
       "3  https://www.hrw.org/news/2019/09/13/bangladesh...      asia  bangladesh   \n",
       "4  \"https://timesofindia.indiatimes.com/city/pune...      asia       india   \n",
       "\n",
       "         state/india geo_scope  \\\n",
       "0                NaN   level 2   \n",
       "1                NaN   level 2   \n",
       "2  jammu and kashmir   level 2   \n",
       "3                NaN   level 1   \n",
       "4        maharashtra   level 2   \n",
       "\n",
       "                                           area_name            ordered_by  \\\n",
       "0                 federally administered tribal area  executive government   \n",
       "1  myabon, ponnagyun, kyauktaw, and mrauk u towns...  executive government   \n",
       "2                                     kashmir valley      state government   \n",
       "3  refugee camps in cox bazar district and penins...  executive government   \n",
       "4     koregaon bhima, perne village in pune district      local government   \n",
       "\n",
       "                                      decision_maker shutdown_type_new  \\\n",
       "0                                                NaN          shutdown   \n",
       "1  myanmar ministry of transport and communicatio...          throttle   \n",
       "2                                   state government          shutdown   \n",
       "3  bangladesh telecommunication regulatory commis...          throttle   \n",
       "4  pune superintendent of police (rural) sandeep ...          shutdown   \n",
       "\n",
       "    affected_network full_or_service-based facebook_affected twitter_affected  \\\n",
       "0  broadband, mobile          full network                no               no   \n",
       "1             mobile          full network                no               no   \n",
       "2  broadband, mobile          full network                no               no   \n",
       "3             mobile          full network                no               no   \n",
       "4  broadband, mobile          full network                no               no   \n",
       "\n",
       "  whatsapp_affected instagram_affected telegram_affected  \\\n",
       "0                no                 no                no   \n",
       "1                no                 no                no   \n",
       "2                no                 no                no   \n",
       "3                no                 no                no   \n",
       "4                no                 no                no   \n",
       "\n",
       "  other_service_details(specify) sms_affected phone_call_affected  \\\n",
       "0                            NaN      unknown             unknown   \n",
       "1                            NaN           no                  no   \n",
       "2                            NaN          yes                 yes   \n",
       "3                            NaN           no                  no   \n",
       "4                            NaN      unknown             unknown   \n",
       "\n",
       "                           telcos_involved gov_ack  \\\n",
       "0                                      NaN     yes   \n",
       "1                                      NaN     yes   \n",
       "2                              india: bsnl     yes   \n",
       "3  bangladesh: banglalink (global telecom)     yes   \n",
       "4                                      NaN     yes   \n",
       "\n",
       "                                       official_just  \\\n",
       "0         technical problems/ infrastructure failure   \n",
       "1  fake news/ hate speech/ incendiary content/ pr...   \n",
       "2  fake news/ hate speech/ incendiary content/ pr...   \n",
       "3  fake news/ hate speech/ incendiary content/ pr...   \n",
       "4                              precautionary measure   \n",
       "\n",
       "                                  other_just_details  \\\n",
       "0  government said they will not be able to resto...   \n",
       "1  act of terrorism, acts of disturbance, and ill...   \n",
       "2                                                NaN   \n",
       "3  to stop baseless rumours and misinformation\" c...   \n",
       "4                                                NaN   \n",
       "\n",
       "                                       off_statement  \\\n",
       "0                                                NaN   \n",
       "1                                                NaN   \n",
       "2  https://twitter.com/netshutdowns/status/121715...   \n",
       "3                                                NaN   \n",
       "4  https://timesofindia.indiatimes.com/city/pune/...   \n",
       "\n",
       "                    actual_cause  \\\n",
       "0                          other   \n",
       "1          political instability   \n",
       "2          political instability   \n",
       "3                       protests   \n",
       "4  religious holiday/anniversary   \n",
       "\n",
       "                                 other_cause_details election violence  \\\n",
       "0   conflict between afghanistan and pakistan forces       no       no   \n",
       "1                                                NaN      yes      yes   \n",
       "2                                                NaN       no      yes   \n",
       "3  protests organized by refugees commemorating t...       no       no   \n",
       "4     202nd anniversary of battle of koregaon bhima:       no       no   \n",
       "\n",
       "  hr_abuse_reported users_notified                 users_affected/targetted  \\\n",
       "0                no             no                                      NaN   \n",
       "1           unknown             no                        ethnic minorities   \n",
       "2               yes             no  ethnic minorities, religious minorities   \n",
       "3                no             no                        ethnic minorities   \n",
       "4                no             no                                      NaN   \n",
       "\n",
       "  legal_justif                                       legal_method  \\\n",
       "0           no                                                NaN   \n",
       "1          yes  acts of terrorism, act of disturbance, and ill...   \n",
       "2          yes                                   section 144 crpc   \n",
       "3          yes                                                NaN   \n",
       "4           no                                                 no   \n",
       "\n",
       "                                          telco_resp telco_ack  \n",
       "0                                                NaN   unknown  \n",
       "1  https://www.telenor.com/internet-services-rest...       yes  \n",
       "2                                                NaN   unknown  \n",
       "3                                                NaN        no  \n",
       "4                                                NaN   unknown  "
      ]
     },
     "execution_count": 8,
     "metadata": {},
     "output_type": "execute_result"
    }
   ],
   "source": [
    "pd.set_option('display.max_columns', None)\n",
    "pd.set_option('display.max_rows', None)\n",
    "\n",
    "df.head()"
   ]
  },
  {
   "cell_type": "code",
   "execution_count": 9,
   "id": "40003071",
   "metadata": {
    "scrolled": true
   },
   "outputs": [
    {
     "name": "stdout",
     "output_type": "stream",
     "text": [
      "<class 'pandas.core.frame.DataFrame'>\n",
      "Int64Index: 155 entries, 0 to 154\n",
      "Data columns (total 40 columns):\n",
      " #   Column                          Non-Null Count  Dtype         \n",
      "---  ------                          --------------  -----         \n",
      " 0   id                              155 non-null    int64         \n",
      " 1   start_date                      155 non-null    datetime64[ns]\n",
      " 2   end_date                        135 non-null    datetime64[ns]\n",
      " 3   duration                        126 non-null    float64       \n",
      " 4   info_source                     154 non-null    object        \n",
      " 5   news_link                       153 non-null    object        \n",
      " 6   continent                       155 non-null    object        \n",
      " 7   country                         155 non-null    object        \n",
      " 8   state/india                     96 non-null     object        \n",
      " 9   geo_scope                       155 non-null    object        \n",
      " 10  area_name                       145 non-null    object        \n",
      " 11  ordered_by                      155 non-null    object        \n",
      " 12  decision_maker                  118 non-null    object        \n",
      " 13  shutdown_type_new               155 non-null    object        \n",
      " 14  affected_network                155 non-null    object        \n",
      " 15  full_or_service-based           155 non-null    object        \n",
      " 16  facebook_affected               155 non-null    object        \n",
      " 17  twitter_affected                155 non-null    object        \n",
      " 18  whatsapp_affected               155 non-null    object        \n",
      " 19  instagram_affected              155 non-null    object        \n",
      " 20  telegram_affected               155 non-null    object        \n",
      " 21  other_service_details(specify)  10 non-null     object        \n",
      " 22  sms_affected                    155 non-null    object        \n",
      " 23  phone_call_affected             155 non-null    object        \n",
      " 24  telcos_involved                 30 non-null     object        \n",
      " 25  gov_ack                         155 non-null    object        \n",
      " 26  official_just                   155 non-null    object        \n",
      " 27  other_just_details              103 non-null    object        \n",
      " 28  off_statement                   94 non-null     object        \n",
      " 29  actual_cause                    155 non-null    object        \n",
      " 30  other_cause_details             122 non-null    object        \n",
      " 31  election                        155 non-null    object        \n",
      " 32  violence                        155 non-null    object        \n",
      " 33  hr_abuse_reported               155 non-null    object        \n",
      " 34  users_notified                  153 non-null    object        \n",
      " 35  users_affected/targetted        4 non-null      object        \n",
      " 36  legal_justif                    124 non-null    object        \n",
      " 37  legal_method                    98 non-null     object        \n",
      " 38  telco_resp                      8 non-null      object        \n",
      " 39  telco_ack                       147 non-null    object        \n",
      "dtypes: datetime64[ns](2), float64(1), int64(1), object(36)\n",
      "memory usage: 49.6+ KB\n"
     ]
    }
   ],
   "source": [
    "df.info()"
   ]
  },
  {
   "cell_type": "markdown",
   "id": "c3a1bac8",
   "metadata": {},
   "source": [
    "## Task 1:\n",
    "*Here is the 2020 STOP database and the latest methodology. Please tell us in bullet\n",
    "sentences some differences of shutdown cases between India and Belarus. \n",
    "(Consider: who ordered the shutdowns? \n",
    "What are the unique traits of these shutdowns? \n",
    "What communities are impacted? How are they impacted?)*\n"
   ]
  },
  {
   "cell_type": "markdown",
   "id": "41fc6d04",
   "metadata": {},
   "source": [
    "<span style='color:red'> Task approach: </span> The direct answers to the main considered questions will be displayed below and under them is the surplus of the analysis, as well as all the code and also graphs I used to understand better the situation and all its facets."
   ]
  },
  {
   "cell_type": "markdown",
   "id": "c5ffeb7e",
   "metadata": {},
   "source": [
    "__Who ordered the shutdowns?__\n",
    "\n",
    "\n",
    "India: \n",
    "- The Local Government ordered 103, State Government 3, Military 1 and the remaining 2 are unknown.<br>\n",
    "\n",
    "Belarus: \n",
    "- The two cases were ordered by the Executive Government."
   ]
  },
  {
   "cell_type": "markdown",
   "id": "9414bccf",
   "metadata": {},
   "source": [
    "__What are the unique traits of these shutdowns?__\n",
    "\n",
    "India:<br>\n",
    "* Most cases were violent (88 of 109); <br>\n",
    "* Mainly the mobile network was shut down, telecommunication services and social media were still online; <br>\n",
    "* India has significantly more cases than any other country including Belarus, and the month with the most attacks was June of 2020;<br>\n",
    "* India's longest duration case lasted 175 days, but the average duration is 3 days;<br>\n",
    "* The majority of the cases that had a legal justification, being ‘precautionary measure’, mostly induced by political instability as the actual cause.<br>\n",
    "<br>\n",
    "\n",
    "Belarus:<br>\n",
    "* Although India has 109 shutdown cases while Belarus only 2, this country had the most harsh one, taking into account that all communications were shut down with all social media being disrupted as well as the full network; this shutdown episode also took place in the whole country (level 3 of scope), while in India none of the shutdowns were on a national scale; none of the were ever notified;<br>\n",
    "* Human Rights were infringed and it became a violent shutdown that lasted 120 days;<br>\n",
    "* It was ordered by the Executive Government during an election period."
   ]
  },
  {
   "cell_type": "markdown",
   "id": "2a32fcc2",
   "metadata": {},
   "source": [
    "__What communities are impacted? How are they impacted?__\n",
    "\n",
    "<br>\n",
    "India:\n",
    "\n",
    "- The region most affected was the Jammu and Kashmir union territory (83 of the cases from the 109) mostly in 2020 with almost all of them being ordered by the Local Government;\n",
    "- Most of them lasted one day only, but this region also had India's longest lasting case of 175 days; \n",
    "- Almost all had violent episodes, having their actual cause being political instability, mainly targeting mobile networks.\n",
    "\n",
    "\n",
    "Belarus:\n",
    "- This country suffered 2 shutdowns, one lasting less than a day and the other being the most violent and long, lasting 120 days;\n",
    "- Focusing on the most relevant shutdown: the whole country was affected, the shutdown was on a national level, with all social media being shut down; violence was experienced apart from the Human Rights infringements suffered."
   ]
  },
  {
   "cell_type": "markdown",
   "id": "9db3dd71",
   "metadata": {},
   "source": [
    "### These are the main points of comparison between India's and Belarus' shutdown cases:"
   ]
  },
  {
   "cell_type": "markdown",
   "id": "1e374407",
   "metadata": {},
   "source": [
    " __Complementing the points considered above for a deeper understanding of these countries shutdown situations:__\n",
    "\n",
    "- India has significantly more shutdown cases than Belarus, India having 109 (70.32%) and Belarus with only 2 (1.29%).\n",
    "\n",
    "- India's most affected state is Jammu and Kashmir, which actually is a union territory subject of dispute between other countries. The attacks also affect mostly level 1 regions (only affecting one city, county, or village).\n",
    "\n",
    "- Although India's average duration of each case is 3 days, that only happens due to its high number of occurrences.\n",
    "\n",
    "- Most Indian cases turned violent, it is unknown for most cases if Human Rights infringed, nevertheless we can see that users were not notified about the shutdowns.\n",
    "\n",
    "- The majority of the shutdowns that occurred in India had a legal method and a legal justification, mostly induced by political instability as the actual cause.\n",
    "\n",
    "- The Indian shutdowns were also nearly all reinforced by the security operations, and referred and ordered by the local government as a precaution measure, and most were violent.\n",
    "\n",
    "- Both Belarus and India had one case that lasted more than 4 months, all the other countries accounted for 15 days or less.\n",
    "\n",
    "- The only points in common of these two countries' highest duration cases that we know of are that both had political reasons and were classified mainly as Full network Shutdowns.\n",
    "\n",
    "- One notable difference between India and Belarus is that when an election driven shutdown occurs in India it is not violent and tends to not last a long time, the aim is mainly to control the spread of misinformation.\n",
    "\n",
    "- While the cases in Belarus were very broad, meaning that they were classified as shutdowns plus took down broadband and mobile connect besides affecting full networks and services; the ones in India were also mainly classified as shutdowns, but the difference is that they affected mostly only mobile networks.\n",
    "\n",
    "- The main information source for Belarus was through news media articles, meanwhile for India that only was true for almost half the cases.\n",
    "\n",
    "- The case with the highest duration in Belarus did, it was ordered by the government with legal justification during an election period and experienced violence, lasted about 4 months and was justified as a National Security matter.\n",
    "\n",
    "***\n",
    "Below starts my code, used for obtaining the information above from STOP.\n",
    "***\n"
   ]
  },
  {
   "cell_type": "markdown",
   "id": "71d12a58",
   "metadata": {},
   "source": [
    "#### Quantity of shutdowns (total amount and percentage)"
   ]
  },
  {
   "cell_type": "code",
   "execution_count": 10,
   "id": "1b32880c",
   "metadata": {},
   "outputs": [
    {
     "data": {
      "text/plain": [
       "155"
      ]
     },
     "execution_count": 10,
     "metadata": {},
     "output_type": "execute_result"
    }
   ],
   "source": [
    "# total amount of shutdowns\n",
    "df.shape[0]"
   ]
  },
  {
   "cell_type": "code",
   "execution_count": 11,
   "id": "ee0a6528",
   "metadata": {},
   "outputs": [
    {
     "data": {
      "text/plain": [
       "109"
      ]
     },
     "execution_count": 11,
     "metadata": {},
     "output_type": "execute_result"
    }
   ],
   "source": [
    "# shutdowns in India\n",
    "df_india = df[df['country'] == 'india']\n",
    "df_india.shape[0]"
   ]
  },
  {
   "cell_type": "code",
   "execution_count": 12,
   "id": "c2bba17b",
   "metadata": {},
   "outputs": [
    {
     "data": {
      "text/plain": [
       "2"
      ]
     },
     "execution_count": 12,
     "metadata": {},
     "output_type": "execute_result"
    }
   ],
   "source": [
    "# shutdowns in Belarus\n",
    "df_belarus = df[df['country'] == 'belarus']\n",
    "df_belarus.shape[0]"
   ]
  },
  {
   "cell_type": "code",
   "execution_count": 13,
   "id": "b75a47f9",
   "metadata": {},
   "outputs": [
    {
     "data": {
      "text/plain": [
       "44"
      ]
     },
     "execution_count": 13,
     "metadata": {},
     "output_type": "execute_result"
    }
   ],
   "source": [
    "# shutdowns in the rest of the countries\n",
    "other_c = df.shape[0] - df_belarus.shape[0] - df_india.shape[0]\n",
    "other_c"
   ]
  },
  {
   "cell_type": "code",
   "execution_count": 14,
   "id": "1058c830",
   "metadata": {},
   "outputs": [
    {
     "data": {
      "image/png": "[encoded data removed]",
      "text/plain": [
       "<Figure size 432x288 with 1 Axes>"
      ]
     },
     "metadata": {},
     "output_type": "display_data"
    }
   ],
   "source": [
    "# graph \"Quantity Of Each Country's Shutdown Cases\"\n",
    "data = [df_india.shape[0], df_belarus.shape[0], other_c]\n",
    "lbl = ['India', 'Belarus', 'Others']\n",
    "\n",
    "plt.title(\"Quantity Of Each Country's Shutdown Cases\")\n",
    "plt.pie(data, labels=lbl, autopct=make_autopct(data));"
   ]
  },
  {
   "cell_type": "code",
   "execution_count": 15,
   "id": "d450c7ff",
   "metadata": {},
   "outputs": [
    {
     "data": {
      "image/png": "[encoded data removed]",
      "text/plain": [
       "<Figure size 432x288 with 1 Axes>"
      ]
     },
     "metadata": {
      "needs_background": "light"
     },
     "output_type": "display_data"
    }
   ],
   "source": [
    "# graph \"Shutdowns by Country\"\n",
    "country_counts = df['country'].value_counts()\n",
    "\n",
    "ax = country_counts.plot(kind='bar')\n",
    "\n",
    "ax.set_xlabel('Country')\n",
    "ax.set_ylabel('Shutdowns')\n",
    "ax.set_title('Shutdowns by Country')\n",
    "\n",
    "ax;"
   ]
  },
  {
   "cell_type": "markdown",
   "id": "888a45a5",
   "metadata": {},
   "source": [
    "#### Month with most shutdowns in India"
   ]
  },
  {
   "cell_type": "code",
   "execution_count": 16,
   "id": "5871279c",
   "metadata": {
    "scrolled": true
   },
   "outputs": [
    {
     "data": {
      "text/plain": [
       "start_date  country\n",
       "2019-08-31  india       1\n",
       "2020-01-31  india       7\n",
       "2020-02-29  india       7\n",
       "2020-03-31  india       3\n",
       "2020-04-30  india      10\n",
       "2020-05-31  india      15\n",
       "2020-06-30  india      17\n",
       "2020-07-31  india       7\n",
       "2020-08-31  india       7\n",
       "2020-09-30  india       7\n",
       "2020-10-31  india      10\n",
       "2020-11-30  india       9\n",
       "2020-12-31  india       9\n",
       "Name: start_date, dtype: int64"
      ]
     },
     "execution_count": 16,
     "metadata": {},
     "output_type": "execute_result"
    }
   ],
   "source": [
    "# count of shutdowns per month\n",
    "grouped = df_india.groupby([pd.Grouper(key='start_date', freq='M'), 'country'])\n",
    "\n",
    "counts = grouped['start_date'].count()\n",
    "\n",
    "counts"
   ]
  },
  {
   "cell_type": "code",
   "execution_count": 17,
   "id": "6b7a62f4",
   "metadata": {},
   "outputs": [
    {
     "data": {
      "image/png": "[encoded data removed]",
      "text/plain": [
       "<Figure size 432x288 with 1 Axes>"
      ]
     },
     "metadata": {
      "needs_background": "light"
     },
     "output_type": "display_data"
    }
   ],
   "source": [
    "# graph of shutdowns per month\n",
    "india_counts = df[df['country'] == 'india'].groupby(pd.Grouper(key='start_date', freq='M'))['id'].count()\n",
    "\n",
    "ax = india_counts.plot(kind='bar')\n",
    "\n",
    "ax.set_xlabel('Month')\n",
    "ax.set_ylabel('Shutdowns')\n",
    "ax.set_title(\"India's Shutdowns\")\n",
    "\n",
    "ax.set_xticklabels(india_counts.index.strftime('%b %Y'))\n",
    "\n",
    "ax;"
   ]
  },
  {
   "cell_type": "markdown",
   "id": "03038878",
   "metadata": {},
   "source": [
    "#### Average duration of the shutdowns & top 3 highest durations"
   ]
  },
  {
   "cell_type": "code",
   "execution_count": 18,
   "id": "94ab2f41",
   "metadata": {},
   "outputs": [
    {
     "data": {
      "text/plain": [
       "3.19"
      ]
     },
     "execution_count": 18,
     "metadata": {},
     "output_type": "execute_result"
    }
   ],
   "source": [
    "# average duration of the shutdowns in India\n",
    "dur_avg_ind = df_india['duration'].mean()\n",
    "dur_avg_ind.round(2)"
   ]
  },
  {
   "cell_type": "code",
   "execution_count": 19,
   "id": "ccbe983e",
   "metadata": {},
   "outputs": [
    {
     "data": {
      "text/plain": [
       "60.0"
      ]
     },
     "execution_count": 19,
     "metadata": {},
     "output_type": "execute_result"
    }
   ],
   "source": [
    "# average duration of the shutdowns in Belarus\n",
    "dur_avg_bel = df_belarus['duration'].mean()\n",
    "dur_avg_bel.round(2)"
   ]
  },
  {
   "cell_type": "code",
   "execution_count": 20,
   "id": "db3f6376",
   "metadata": {},
   "outputs": [
    {
     "data": {
      "text/plain": [
       "2      175.0\n",
       "48      15.0\n",
       "136     14.0\n",
       "148     11.0\n",
       "19       9.0\n",
       "Name: duration, dtype: float64"
      ]
     },
     "execution_count": 20,
     "metadata": {},
     "output_type": "execute_result"
    }
   ],
   "source": [
    "# top duration shutdowns in India\n",
    "top_5_dur_ind = df_india['duration'].nlargest(5)\n",
    "top_5_dur_ind"
   ]
  },
  {
   "cell_type": "code",
   "execution_count": 21,
   "id": "f6ddc6c1",
   "metadata": {
    "scrolled": true
   },
   "outputs": [
    {
     "data": {
      "text/plain": [
       "93    120.0\n",
       "70      0.0\n",
       "Name: duration, dtype: float64"
      ]
     },
     "execution_count": 21,
     "metadata": {},
     "output_type": "execute_result"
    }
   ],
   "source": [
    "# top duration shutdowns in Belarus\n",
    "top_dur_bel = df_belarus['duration'].nlargest()\n",
    "top_dur_bel"
   ]
  },
  {
   "cell_type": "markdown",
   "id": "d3de29f8",
   "metadata": {},
   "source": [
    "#### Top duration cases comparison (India & Belarus)"
   ]
  },
  {
   "cell_type": "code",
   "execution_count": 22,
   "id": "88cf5752",
   "metadata": {},
   "outputs": [
    {
     "data": {
      "text/html": [
       "<div>\n",
       "<style scoped>\n",
       "    .dataframe tbody tr th:only-of-type {\n",
       "        vertical-align: middle;\n",
       "    }\n",
       "\n",
       "    .dataframe tbody tr th {\n",
       "        vertical-align: top;\n",
       "    }\n",
       "\n",
       "    .dataframe thead th {\n",
       "        text-align: right;\n",
       "    }\n",
       "</style>\n",
       "<table border=\"1\" class=\"dataframe\">\n",
       "  <thead>\n",
       "    <tr style=\"text-align: right;\">\n",
       "      <th></th>\n",
       "      <th>self</th>\n",
       "      <th>other</th>\n",
       "    </tr>\n",
       "  </thead>\n",
       "  <tbody>\n",
       "    <tr>\n",
       "      <th>id</th>\n",
       "      <td>3</td>\n",
       "      <td>94</td>\n",
       "    </tr>\n",
       "    <tr>\n",
       "      <th>start_date</th>\n",
       "      <td>2019-08-03 00:00:00</td>\n",
       "      <td>2020-08-09 00:00:00</td>\n",
       "    </tr>\n",
       "    <tr>\n",
       "      <th>end_date</th>\n",
       "      <td>2020-01-25 00:00:00</td>\n",
       "      <td>2020-12-07 00:00:00</td>\n",
       "    </tr>\n",
       "    <tr>\n",
       "      <th>duration</th>\n",
       "      <td>175.0</td>\n",
       "      <td>120.0</td>\n",
       "    </tr>\n",
       "    <tr>\n",
       "      <th>info_source</th>\n",
       "      <td>NaN</td>\n",
       "      <td>news media article</td>\n",
       "    </tr>\n",
       "    <tr>\n",
       "      <th>news_link</th>\n",
       "      <td>https://www.news18.com/news/india/omar-abdulla...</td>\n",
       "      <td>https://netobservatory.by/belarus-shutdown-202...</td>\n",
       "    </tr>\n",
       "    <tr>\n",
       "      <th>continent</th>\n",
       "      <td>asia</td>\n",
       "      <td>europe</td>\n",
       "    </tr>\n",
       "    <tr>\n",
       "      <th>country</th>\n",
       "      <td>india</td>\n",
       "      <td>belarus</td>\n",
       "    </tr>\n",
       "    <tr>\n",
       "      <th>state/india</th>\n",
       "      <td>jammu and kashmir</td>\n",
       "      <td>NaN</td>\n",
       "    </tr>\n",
       "    <tr>\n",
       "      <th>geo_scope</th>\n",
       "      <td>level 2</td>\n",
       "      <td>level 3</td>\n",
       "    </tr>\n",
       "    <tr>\n",
       "      <th>area_name</th>\n",
       "      <td>kashmir valley</td>\n",
       "      <td>national</td>\n",
       "    </tr>\n",
       "    <tr>\n",
       "      <th>ordered_by</th>\n",
       "      <td>state government</td>\n",
       "      <td>executive government</td>\n",
       "    </tr>\n",
       "    <tr>\n",
       "      <th>decision_maker</th>\n",
       "      <td>state government</td>\n",
       "      <td>NaN</td>\n",
       "    </tr>\n",
       "    <tr>\n",
       "      <th>shutdown_type_new</th>\n",
       "      <td>shutdown</td>\n",
       "      <td>shutdown, throttle</td>\n",
       "    </tr>\n",
       "    <tr>\n",
       "      <th>full_or_service-based</th>\n",
       "      <td>full network</td>\n",
       "      <td>full network, service-based</td>\n",
       "    </tr>\n",
       "    <tr>\n",
       "      <th>facebook_affected</th>\n",
       "      <td>no</td>\n",
       "      <td>yes</td>\n",
       "    </tr>\n",
       "    <tr>\n",
       "      <th>twitter_affected</th>\n",
       "      <td>no</td>\n",
       "      <td>yes</td>\n",
       "    </tr>\n",
       "    <tr>\n",
       "      <th>whatsapp_affected</th>\n",
       "      <td>no</td>\n",
       "      <td>yes</td>\n",
       "    </tr>\n",
       "    <tr>\n",
       "      <th>instagram_affected</th>\n",
       "      <td>no</td>\n",
       "      <td>yes</td>\n",
       "    </tr>\n",
       "    <tr>\n",
       "      <th>telegram_affected</th>\n",
       "      <td>no</td>\n",
       "      <td>yes</td>\n",
       "    </tr>\n",
       "    <tr>\n",
       "      <th>other_service_details(specify)</th>\n",
       "      <td>NaN</td>\n",
       "      <td>youtube, viber</td>\n",
       "    </tr>\n",
       "    <tr>\n",
       "      <th>sms_affected</th>\n",
       "      <td>yes</td>\n",
       "      <td>unknown</td>\n",
       "    </tr>\n",
       "    <tr>\n",
       "      <th>phone_call_affected</th>\n",
       "      <td>yes</td>\n",
       "      <td>unknown</td>\n",
       "    </tr>\n",
       "    <tr>\n",
       "      <th>telcos_involved</th>\n",
       "      <td>india: bsnl</td>\n",
       "      <td>NaN</td>\n",
       "    </tr>\n",
       "    <tr>\n",
       "      <th>gov_ack</th>\n",
       "      <td>yes</td>\n",
       "      <td>unknown</td>\n",
       "    </tr>\n",
       "    <tr>\n",
       "      <th>official_just</th>\n",
       "      <td>fake news/ hate speech/ incendiary content/ pr...</td>\n",
       "      <td>national security/ counter-terrorism</td>\n",
       "    </tr>\n",
       "    <tr>\n",
       "      <th>off_statement</th>\n",
       "      <td>https://twitter.com/netshutdowns/status/121715...</td>\n",
       "      <td>NaN</td>\n",
       "    </tr>\n",
       "    <tr>\n",
       "      <th>actual_cause</th>\n",
       "      <td>political instability</td>\n",
       "      <td>elections</td>\n",
       "    </tr>\n",
       "    <tr>\n",
       "      <th>other_cause_details</th>\n",
       "      <td>NaN</td>\n",
       "      <td>elections and protests</td>\n",
       "    </tr>\n",
       "    <tr>\n",
       "      <th>election</th>\n",
       "      <td>no</td>\n",
       "      <td>yes</td>\n",
       "    </tr>\n",
       "    <tr>\n",
       "      <th>users_affected/targetted</th>\n",
       "      <td>ethnic minorities, religious minorities</td>\n",
       "      <td>NaN</td>\n",
       "    </tr>\n",
       "    <tr>\n",
       "      <th>legal_justif</th>\n",
       "      <td>yes</td>\n",
       "      <td>NaN</td>\n",
       "    </tr>\n",
       "    <tr>\n",
       "      <th>legal_method</th>\n",
       "      <td>section 144 crpc</td>\n",
       "      <td>NaN</td>\n",
       "    </tr>\n",
       "    <tr>\n",
       "      <th>telco_ack</th>\n",
       "      <td>unknown</td>\n",
       "      <td>yes</td>\n",
       "    </tr>\n",
       "  </tbody>\n",
       "</table>\n",
       "</div>"
      ],
      "text/plain": [
       "                                                                             self  \\\n",
       "id                                                                              3   \n",
       "start_date                                                    2019-08-03 00:00:00   \n",
       "end_date                                                      2020-01-25 00:00:00   \n",
       "duration                                                                    175.0   \n",
       "info_source                                                                   NaN   \n",
       "news_link                       https://www.news18.com/news/india/omar-abdulla...   \n",
       "continent                                                                    asia   \n",
       "country                                                                     india   \n",
       "state/india                                                     jammu and kashmir   \n",
       "geo_scope                                                                 level 2   \n",
       "area_name                                                          kashmir valley   \n",
       "ordered_by                                                       state government   \n",
       "decision_maker                                                   state government   \n",
       "shutdown_type_new                                                        shutdown   \n",
       "full_or_service-based                                                full network   \n",
       "facebook_affected                                                              no   \n",
       "twitter_affected                                                               no   \n",
       "whatsapp_affected                                                              no   \n",
       "instagram_affected                                                             no   \n",
       "telegram_affected                                                              no   \n",
       "other_service_details(specify)                                                NaN   \n",
       "sms_affected                                                                  yes   \n",
       "phone_call_affected                                                           yes   \n",
       "telcos_involved                                                       india: bsnl   \n",
       "gov_ack                                                                       yes   \n",
       "official_just                   fake news/ hate speech/ incendiary content/ pr...   \n",
       "off_statement                   https://twitter.com/netshutdowns/status/121715...   \n",
       "actual_cause                                                political instability   \n",
       "other_cause_details                                                           NaN   \n",
       "election                                                                       no   \n",
       "users_affected/targetted                  ethnic minorities, religious minorities   \n",
       "legal_justif                                                                  yes   \n",
       "legal_method                                                     section 144 crpc   \n",
       "telco_ack                                                                 unknown   \n",
       "\n",
       "                                                                            other  \n",
       "id                                                                             94  \n",
       "start_date                                                    2020-08-09 00:00:00  \n",
       "end_date                                                      2020-12-07 00:00:00  \n",
       "duration                                                                    120.0  \n",
       "info_source                                                    news media article  \n",
       "news_link                       https://netobservatory.by/belarus-shutdown-202...  \n",
       "continent                                                                  europe  \n",
       "country                                                                   belarus  \n",
       "state/india                                                                   NaN  \n",
       "geo_scope                                                                 level 3  \n",
       "area_name                                                                national  \n",
       "ordered_by                                                   executive government  \n",
       "decision_maker                                                                NaN  \n",
       "shutdown_type_new                                              shutdown, throttle  \n",
       "full_or_service-based                                 full network, service-based  \n",
       "facebook_affected                                                             yes  \n",
       "twitter_affected                                                              yes  \n",
       "whatsapp_affected                                                             yes  \n",
       "instagram_affected                                                            yes  \n",
       "telegram_affected                                                             yes  \n",
       "other_service_details(specify)                                     youtube, viber  \n",
       "sms_affected                                                              unknown  \n",
       "phone_call_affected                                                       unknown  \n",
       "telcos_involved                                                               NaN  \n",
       "gov_ack                                                                   unknown  \n",
       "official_just                                national security/ counter-terrorism  \n",
       "off_statement                                                                 NaN  \n",
       "actual_cause                                                            elections  \n",
       "other_cause_details                                        elections and protests  \n",
       "election                                                                      yes  \n",
       "users_affected/targetted                                                      NaN  \n",
       "legal_justif                                                                  NaN  \n",
       "legal_method                                                                  NaN  \n",
       "telco_ack                                                                     yes  "
      ]
     },
     "execution_count": 22,
     "metadata": {},
     "output_type": "execute_result"
    }
   ],
   "source": [
    "# comparison\n",
    "ind_top1_dur = df_india.loc[df_india['duration'].idxmax()]\n",
    "bel_top1_dur = df_belarus.loc[df_belarus['duration'].idxmax()]\n",
    "\n",
    "ind_top1_dur.compare(bel_top1_dur)"
   ]
  },
  {
   "cell_type": "markdown",
   "id": "04bfb273",
   "metadata": {},
   "source": [
    "#### Main source"
   ]
  },
  {
   "cell_type": "markdown",
   "id": "73420066",
   "metadata": {},
   "source": [
    "India:"
   ]
  },
  {
   "cell_type": "code",
   "execution_count": 23,
   "id": "cda8a27a",
   "metadata": {
    "scrolled": true
   },
   "outputs": [
    {
     "data": {
      "text/plain": [
       "other                 57\n",
       "news media article    50\n",
       "social media           1\n",
       "Name: info_source, dtype: int64"
      ]
     },
     "execution_count": 23,
     "metadata": {},
     "output_type": "execute_result"
    }
   ],
   "source": [
    "# count of source\n",
    "df_ind_infos = df_india['info_source'].value_counts()\n",
    "df_ind_infos"
   ]
  },
  {
   "cell_type": "code",
   "execution_count": 24,
   "id": "363704b3",
   "metadata": {},
   "outputs": [
    {
     "data": {
      "image/png": "[encoded data removed]",
      "text/plain": [
       "<Figure size 432x288 with 1 Axes>"
      ]
     },
     "metadata": {},
     "output_type": "display_data"
    }
   ],
   "source": [
    "# graph of source\n",
    "ax = df_ind_infos.plot(kind='pie', autopct='%1.1f%%')\n",
    "\n",
    "ax.set_title('Main Source of the Shutdown for India')\n",
    "ax.set_ylabel('')\n",
    "\n",
    "ax;"
   ]
  },
  {
   "cell_type": "markdown",
   "id": "74978a5c",
   "metadata": {},
   "source": [
    "Belarus:"
   ]
  },
  {
   "cell_type": "code",
   "execution_count": 25,
   "id": "9c4d4905",
   "metadata": {},
   "outputs": [
    {
     "data": {
      "text/plain": [
       "news media article    2\n",
       "Name: info_source, dtype: int64"
      ]
     },
     "execution_count": 25,
     "metadata": {},
     "output_type": "execute_result"
    }
   ],
   "source": [
    "# count of source\n",
    "df_bel_infos = df_belarus['info_source'].value_counts()\n",
    "df_bel_infos"
   ]
  },
  {
   "cell_type": "code",
   "execution_count": 26,
   "id": "8894f2a7",
   "metadata": {},
   "outputs": [
    {
     "data": {
      "image/png": "[encoded data removed]",
      "text/plain": [
       "<Figure size 432x288 with 1 Axes>"
      ]
     },
     "metadata": {},
     "output_type": "display_data"
    }
   ],
   "source": [
    "# graph of source\n",
    "ax = df_bel_infos.plot(kind='pie', autopct='%1.1f%%')\n",
    "\n",
    "ax.set_title('Main Source of the Shutdown for Belarus')\n",
    "ax.set_ylabel('')\n",
    "\n",
    "ax;"
   ]
  },
  {
   "cell_type": "markdown",
   "id": "6f7e4c3e",
   "metadata": {},
   "source": [
    "#### Main geographical infos\n"
   ]
  },
  {
   "cell_type": "markdown",
   "id": "454ada0c",
   "metadata": {},
   "source": [
    "India:"
   ]
  },
  {
   "cell_type": "code",
   "execution_count": 27,
   "id": "b4168278",
   "metadata": {},
   "outputs": [
    {
     "data": {
      "text/plain": [
       "jammu and kashmir    83\n",
       "west bengal           3\n",
       "rajasthan             3\n",
       "maharashtra           1\n",
       "andhra pradesh        1\n",
       "madhya pradesh        1\n",
       "uttar pradesh         1\n",
       "meghalaya             1\n",
       "manipur               1\n",
       "arunachal pradesh     1\n",
       "Name: state/india, dtype: int64"
      ]
     },
     "execution_count": 27,
     "metadata": {},
     "output_type": "execute_result"
    }
   ],
   "source": [
    "# shutdowns by area\n",
    "df_india['state/india'].value_counts()"
   ]
  },
  {
   "cell_type": "code",
   "execution_count": 28,
   "id": "2d0d3272",
   "metadata": {
    "scrolled": true
   },
   "outputs": [
    {
     "data": {
      "text/plain": [
       "level 1    75\n",
       "level 2    34\n",
       "Name: geo_scope, dtype: int64"
      ]
     },
     "execution_count": 28,
     "metadata": {},
     "output_type": "execute_result"
    }
   ],
   "source": [
    "# level of shutdown\n",
    "df_india['geo_scope'].value_counts()"
   ]
  },
  {
   "cell_type": "markdown",
   "id": "f672b67c",
   "metadata": {},
   "source": [
    "Belarus:"
   ]
  },
  {
   "cell_type": "code",
   "execution_count": 29,
   "id": "78c24f31",
   "metadata": {},
   "outputs": [
    {
     "data": {
      "text/plain": [
       "national    2\n",
       "Name: area_name, dtype: int64"
      ]
     },
     "execution_count": 29,
     "metadata": {},
     "output_type": "execute_result"
    }
   ],
   "source": [
    "# shutdowns by area\n",
    "df_belarus['area_name'].value_counts()"
   ]
  },
  {
   "cell_type": "code",
   "execution_count": 30,
   "id": "4ff0c1f3",
   "metadata": {},
   "outputs": [
    {
     "data": {
      "text/plain": [
       "level 3    2\n",
       "Name: geo_scope, dtype: int64"
      ]
     },
     "execution_count": 30,
     "metadata": {},
     "output_type": "execute_result"
    }
   ],
   "source": [
    "# level of shutdown\n",
    "df_belarus['geo_scope'].value_counts()"
   ]
  },
  {
   "cell_type": "code",
   "execution_count": 31,
   "id": "502613cf",
   "metadata": {},
   "outputs": [
    {
     "data": {
      "image/png": "[encoded data removed]",
      "text/plain": [
       "<Figure size 432x288 with 1 Axes>"
      ]
     },
     "metadata": {
      "needs_background": "light"
     },
     "output_type": "display_data"
    }
   ],
   "source": [
    "# graphical vizualsation\n",
    "df_ib = df[df['country'].isin(['india', 'belarus'])]\n",
    "df_ib_grouped = df_ib.groupby(['geo_scope', 'country']).size().reset_index(name='count')\n",
    "df_ib_pivot = df_ib_grouped.pivot(index='country', columns='geo_scope', values='count')\n",
    "\n",
    "ax = df_ib_pivot.plot(kind='bar')\n",
    "ax.set_xlabel('Country')\n",
    "ax.set_ylabel('Count')\n",
    "ax.set_title('Geographical scope of the shutdowns of India and Belarus')\n",
    "ax.legend(title='Geo scope', loc='upper right')\n",
    "\n",
    "ax;"
   ]
  },
  {
   "cell_type": "markdown",
   "id": "9e997cc8",
   "metadata": {},
   "source": [
    "#### Government vs Reality"
   ]
  },
  {
   "cell_type": "markdown",
   "id": "9b1b551d",
   "metadata": {},
   "source": [
    "India:"
   ]
  },
  {
   "cell_type": "code",
   "execution_count": 32,
   "id": "4886c311",
   "metadata": {},
   "outputs": [
    {
     "name": "stdout",
     "output_type": "stream",
     "text": [
      "---- election ---\n",
      "no     99\n",
      "yes    10\n",
      "\n",
      "\n",
      "---- actual_cause ---\n",
      "political instability            75\n",
      "elections                        10\n",
      "protests                          8\n",
      "religious holiday/anniversary     5\n",
      "other                             5\n",
      "\n",
      "\n",
      "---- legal_justif ---\n",
      "yes        95\n",
      "unknown    10\n",
      "no          1\n",
      "\n",
      "\n",
      "---- violence ---\n",
      "yes        80\n",
      "no         22\n",
      "unknown     7\n",
      "\n",
      "\n",
      "---- duration ---\n",
      "1.0    40\n",
      "0.0    37\n",
      "2.0     6\n",
      "4.0     2\n",
      "5.0     2\n",
      "\n",
      "\n",
      "---- official_just ---\n",
      "precautionary measure                                             85\n",
      "fake news/ hate speech/ incendiary content/ promoting violence    14\n",
      "public safety/ quell unrest / restore public order                 5\n",
      "unknown                                                            2\n",
      "school exams                                                       2\n",
      "\n",
      "\n",
      "---- gov_ack ---\n",
      "yes        107\n",
      "unknown      2\n",
      "\n",
      "\n",
      "---- ordered_by ---\n",
      "local government    103\n",
      "state government      3\n",
      "unknown               2\n",
      "military              1\n",
      "\n",
      "\n"
     ]
    }
   ],
   "source": [
    "# investigating government justification\n",
    "gov_ind = df_india[[\"election\",\"actual_cause\",\"legal_justif\", \"violence\", \"duration\", \"official_just\", \"gov_ack\", \"ordered_by\"]]\n",
    "count_columns(gov_ind)"
   ]
  },
  {
   "cell_type": "code",
   "execution_count": 33,
   "id": "800931a7",
   "metadata": {
    "scrolled": false
   },
   "outputs": [
    {
     "name": "stdout",
     "output_type": "stream",
     "text": [
      "---- election ---\n",
      "yes    10\n",
      "\n",
      "\n",
      "---- actual_cause ---\n",
      "elections    10\n",
      "\n",
      "\n",
      "---- violence ---\n",
      "no     9\n",
      "yes    1\n",
      "\n",
      "\n",
      "---- duration ---\n",
      "1.0     2\n",
      "14.0    1\n",
      "11.0    1\n",
      "\n",
      "\n",
      "---- legal_justif ---\n",
      "yes    9\n",
      "\n",
      "\n",
      "---- official_just ---\n",
      "fake news/ hate speech/ incendiary content/ promoting violence    8\n",
      "precautionary measure                                             2\n",
      "\n",
      "\n",
      "---- gov_ack ---\n",
      "yes    10\n",
      "\n",
      "\n",
      "---- ordered_by ---\n",
      "local government    10\n",
      "\n",
      "\n"
     ]
    }
   ],
   "source": [
    "# investigating shudowns in times of elections\n",
    "elect_ind = gov_ind[(gov_ind.election == \"Yes \") | (gov_ind.actual_cause == \"elections\")]\n",
    "count_columns(elect_ind[['election','actual_cause','violence','duration','legal_justif', 'official_just','gov_ack','ordered_by']])"
   ]
  },
  {
   "cell_type": "markdown",
   "id": "d9fb1f20",
   "metadata": {},
   "source": [
    "Belarus:"
   ]
  },
  {
   "cell_type": "code",
   "execution_count": 34,
   "id": "fa2ea965",
   "metadata": {
    "scrolled": false
   },
   "outputs": [
    {
     "name": "stdout",
     "output_type": "stream",
     "text": [
      "---- country ---\n",
      "belarus    2\n",
      "\n",
      "\n",
      "---- duration ---\n",
      "0.0      1\n",
      "120.0    1\n",
      "\n",
      "\n",
      "---- actual_cause ---\n",
      "other        1\n",
      "elections    1\n",
      "\n",
      "\n",
      "---- other_cause_details ---\n",
      "preparation of shutdowns    1\n",
      "elections and protests      1\n",
      "\n",
      "\n",
      "---- violence ---\n",
      "no     1\n",
      "yes    1\n",
      "\n",
      "\n",
      "---- election ---\n",
      "no     1\n",
      "yes    1\n",
      "\n",
      "\n",
      "---- official_just ---\n",
      "unknown                                 1\n",
      "national security/ counter-terrorism    1\n",
      "\n",
      "\n",
      "---- gov_ack ---\n",
      "no         1\n",
      "unknown    1\n",
      "\n",
      "\n",
      "---- ordered_by ---\n",
      "executive government    2\n",
      "\n",
      "\n"
     ]
    }
   ],
   "source": [
    "# investigating government justification\n",
    "gov_bel = df_belarus[[\"country\", \"duration\", \"actual_cause\", \"other_cause_details\", \n",
    "                      \"violence\", \"election\", \"official_just\", \"gov_ack\", \"ordered_by\"]]\n",
    "count_columns(gov_bel)"
   ]
  },
  {
   "cell_type": "code",
   "execution_count": 35,
   "id": "33f10cef",
   "metadata": {},
   "outputs": [
    {
     "data": {
      "text/plain": [
       "94"
      ]
     },
     "execution_count": 35,
     "metadata": {},
     "output_type": "execute_result"
    }
   ],
   "source": [
    "# investigations Belarus' longest and most relevant shutdown\n",
    "belarus_max_duration = df[df['country'] == 'belarus']['duration'].max()\n",
    "id_belarus_max_duration = df.loc[(df['country'] == 'belarus') & (df['duration'] == belarus_max_duration), 'id'].values[0]\n",
    "id_belarus_max_duration"
   ]
  },
  {
   "cell_type": "code",
   "execution_count": 36,
   "id": "05284b39",
   "metadata": {},
   "outputs": [
    {
     "data": {
      "text/html": [
       "<div>\n",
       "<style scoped>\n",
       "    .dataframe tbody tr th:only-of-type {\n",
       "        vertical-align: middle;\n",
       "    }\n",
       "\n",
       "    .dataframe tbody tr th {\n",
       "        vertical-align: top;\n",
       "    }\n",
       "\n",
       "    .dataframe thead th {\n",
       "        text-align: right;\n",
       "    }\n",
       "</style>\n",
       "<table border=\"1\" class=\"dataframe\">\n",
       "  <thead>\n",
       "    <tr style=\"text-align: right;\">\n",
       "      <th></th>\n",
       "      <th>id</th>\n",
       "      <th>start_date</th>\n",
       "      <th>end_date</th>\n",
       "      <th>duration</th>\n",
       "      <th>info_source</th>\n",
       "      <th>news_link</th>\n",
       "      <th>continent</th>\n",
       "      <th>country</th>\n",
       "      <th>geo_scope</th>\n",
       "      <th>area_name</th>\n",
       "      <th>ordered_by</th>\n",
       "      <th>shutdown_type_new</th>\n",
       "      <th>affected_network</th>\n",
       "      <th>full_or_service-based</th>\n",
       "      <th>facebook_affected</th>\n",
       "      <th>twitter_affected</th>\n",
       "      <th>whatsapp_affected</th>\n",
       "      <th>instagram_affected</th>\n",
       "      <th>telegram_affected</th>\n",
       "      <th>other_service_details(specify)</th>\n",
       "      <th>official_just</th>\n",
       "      <th>actual_cause</th>\n",
       "      <th>other_cause_details</th>\n",
       "      <th>election</th>\n",
       "      <th>violence</th>\n",
       "      <th>hr_abuse_reported</th>\n",
       "      <th>users_notified</th>\n",
       "      <th>telco_ack</th>\n",
       "    </tr>\n",
       "  </thead>\n",
       "  <tbody>\n",
       "    <tr>\n",
       "      <th>93</th>\n",
       "      <td>94</td>\n",
       "      <td>2020-08-09</td>\n",
       "      <td>2020-12-07</td>\n",
       "      <td>120.0</td>\n",
       "      <td>news media article</td>\n",
       "      <td>https://netobservatory.by/belarus-shutdown-202...</td>\n",
       "      <td>europe</td>\n",
       "      <td>belarus</td>\n",
       "      <td>level 3</td>\n",
       "      <td>national</td>\n",
       "      <td>executive government</td>\n",
       "      <td>shutdown, throttle</td>\n",
       "      <td>broadband, mobile</td>\n",
       "      <td>full network, service-based</td>\n",
       "      <td>yes</td>\n",
       "      <td>yes</td>\n",
       "      <td>yes</td>\n",
       "      <td>yes</td>\n",
       "      <td>yes</td>\n",
       "      <td>youtube, viber</td>\n",
       "      <td>national security/ counter-terrorism</td>\n",
       "      <td>elections</td>\n",
       "      <td>elections and protests</td>\n",
       "      <td>yes</td>\n",
       "      <td>yes</td>\n",
       "      <td>yes</td>\n",
       "      <td>no</td>\n",
       "      <td>yes</td>\n",
       "    </tr>\n",
       "  </tbody>\n",
       "</table>\n",
       "</div>"
      ],
      "text/plain": [
       "    id start_date   end_date  duration         info_source  \\\n",
       "93  94 2020-08-09 2020-12-07     120.0  news media article   \n",
       "\n",
       "                                            news_link continent  country  \\\n",
       "93  https://netobservatory.by/belarus-shutdown-202...    europe  belarus   \n",
       "\n",
       "   geo_scope area_name            ordered_by   shutdown_type_new  \\\n",
       "93   level 3  national  executive government  shutdown, throttle   \n",
       "\n",
       "     affected_network        full_or_service-based facebook_affected  \\\n",
       "93  broadband, mobile  full network, service-based               yes   \n",
       "\n",
       "   twitter_affected whatsapp_affected instagram_affected telegram_affected  \\\n",
       "93              yes               yes                yes               yes   \n",
       "\n",
       "   other_service_details(specify)                         official_just  \\\n",
       "93                 youtube, viber  national security/ counter-terrorism   \n",
       "\n",
       "   actual_cause     other_cause_details election violence hr_abuse_reported  \\\n",
       "93    elections  elections and protests      yes      yes               yes   \n",
       "\n",
       "   users_notified telco_ack  \n",
       "93             no       yes  "
      ]
     },
     "execution_count": 36,
     "metadata": {},
     "output_type": "execute_result"
    }
   ],
   "source": [
    "bel_mostr = df.loc[df['id'] == 94]\n",
    "bel_mostr.drop(['users_affected/targetted','legal_justif','legal_method','telco_resp','off_statement', \n",
    "                             'other_just_details', 'telcos_involved', 'state/india', 'decision_maker',\n",
    "                            'sms_affected', 'phone_call_affected', 'gov_ack'], axis=1)"
   ]
  },
  {
   "cell_type": "markdown",
   "id": "d0250929",
   "metadata": {},
   "source": [
    "#### Shutdown media infos"
   ]
  },
  {
   "cell_type": "markdown",
   "id": "2628aacf",
   "metadata": {},
   "source": [
    "India:"
   ]
  },
  {
   "cell_type": "code",
   "execution_count": 37,
   "id": "ac01377c",
   "metadata": {},
   "outputs": [
    {
     "data": {
      "text/plain": [
       "country  shutdown_type_new   affected_network   full_or_service-based\n",
       "india    shutdown            mobile             full network             100\n",
       "                             broadband, mobile  full network               4\n",
       "         shutdown, throttle  mobile             full network               3\n",
       "         shutdown            unknown            full network               1\n",
       "         throttle            mobile             full network               1\n",
       "dtype: int64"
      ]
     },
     "execution_count": 37,
     "metadata": {},
     "output_type": "execute_result"
    }
   ],
   "source": [
    "# network affected\n",
    "shut_ind = df_india[[\"country\", \"shutdown_type_new\", \"affected_network\", \"full_or_service-based\"]]\n",
    "shut_ind.value_counts()"
   ]
  },
  {
   "cell_type": "code",
   "execution_count": 38,
   "id": "08fdcd69",
   "metadata": {},
   "outputs": [
    {
     "name": "stdout",
     "output_type": "stream",
     "text": [
      "---- facebook_affected ---\n",
      "no     108\n",
      "yes      1\n",
      "\n",
      "\n",
      "---- twitter_affected ---\n",
      "no     108\n",
      "yes      1\n",
      "\n",
      "\n",
      "---- whatsapp_affected ---\n",
      "no     108\n",
      "yes      1\n",
      "\n",
      "\n",
      "---- instagram_affected ---\n",
      "no     108\n",
      "yes      1\n",
      "\n",
      "\n",
      "---- telegram_affected ---\n",
      "no         108\n",
      "unknown      1\n",
      "\n",
      "\n"
     ]
    }
   ],
   "source": [
    "#social media affected\n",
    "social_media_ind = df_india[[\"facebook_affected\", \"twitter_affected\", \"whatsapp_affected\", \"instagram_affected\", \"telegram_affected\"]]\n",
    "count_columns(social_media_ind)"
   ]
  },
  {
   "cell_type": "code",
   "execution_count": 39,
   "id": "09ec40ad",
   "metadata": {},
   "outputs": [
    {
     "name": "stdout",
     "output_type": "stream",
     "text": [
      "---- sms_affected ---\n",
      "no         99\n",
      "yes         9\n",
      "unknown     1\n",
      "\n",
      "\n",
      "---- phone_call_affected ---\n",
      "no         101\n",
      "yes          7\n",
      "unknown      1\n",
      "\n",
      "\n",
      "---- telcos_involved ---\n",
      "india: bsnl    1\n",
      "\n",
      "\n",
      "---- telco_resp ---\n",
      "https://twitter.com/airtel_presence/status/1223100898185887746?s=20    1\n",
      "\n",
      "\n",
      "---- telco_ack ---\n",
      "unknown    91\n",
      "no         13\n",
      "yes         1\n",
      "\n",
      "\n"
     ]
    }
   ],
   "source": [
    "# telecom media affected\n",
    "telecom_ind = df_india[[\"sms_affected\", \"phone_call_affected\", \"telcos_involved\", \"telco_resp\", \"telco_ack\"]]\n",
    "count_columns(telecom_ind)"
   ]
  },
  {
   "cell_type": "markdown",
   "id": "97ce4e9c",
   "metadata": {},
   "source": [
    "Belarus:"
   ]
  },
  {
   "cell_type": "code",
   "execution_count": 40,
   "id": "7b83b51b",
   "metadata": {},
   "outputs": [
    {
     "data": {
      "text/plain": [
       "country  shutdown_type_new   affected_network   full_or_service-based      \n",
       "belarus  shutdown            broadband, mobile  full network, service-based    1\n",
       "         shutdown, throttle  broadband, mobile  full network, service-based    1\n",
       "dtype: int64"
      ]
     },
     "execution_count": 40,
     "metadata": {},
     "output_type": "execute_result"
    }
   ],
   "source": [
    "# network affected\n",
    "shut_bel = df_belarus[[\"country\", \"shutdown_type_new\", \"affected_network\", \"full_or_service-based\"]]\n",
    "shut_bel.value_counts()"
   ]
  },
  {
   "cell_type": "code",
   "execution_count": 41,
   "id": "4031df17",
   "metadata": {},
   "outputs": [
    {
     "name": "stdout",
     "output_type": "stream",
     "text": [
      "---- facebook_affected ---\n",
      "no     1\n",
      "yes    1\n",
      "\n",
      "\n",
      "---- twitter_affected ---\n",
      "no     1\n",
      "yes    1\n",
      "\n",
      "\n",
      "---- whatsapp_affected ---\n",
      "no     1\n",
      "yes    1\n",
      "\n",
      "\n",
      "---- instagram_affected ---\n",
      "no     1\n",
      "yes    1\n",
      "\n",
      "\n",
      "---- telegram_affected ---\n",
      "yes    2\n",
      "\n",
      "\n",
      "---- other_service_details(specify) ---\n",
      "viber and corporate vpn service providers    1\n",
      "youtube, viber                               1\n",
      "\n",
      "\n"
     ]
    }
   ],
   "source": [
    "#social media affected\n",
    "social_media_bel = df_belarus[[\"facebook_affected\", \"twitter_affected\", \"whatsapp_affected\", \"instagram_affected\", \"telegram_affected\",\n",
    "              \"other_service_details(specify)\"]]\n",
    "count_columns(social_media_bel)"
   ]
  },
  {
   "cell_type": "code",
   "execution_count": 42,
   "id": "5da42287",
   "metadata": {
    "scrolled": false
   },
   "outputs": [
    {
     "name": "stdout",
     "output_type": "stream",
     "text": [
      "---- country ---\n",
      "belarus    2\n",
      "\n",
      "\n",
      "---- election ---\n",
      "no     1\n",
      "yes    1\n",
      "\n",
      "\n",
      "---- sms_affected ---\n",
      "no         1\n",
      "unknown    1\n",
      "\n",
      "\n",
      "---- phone_call_affected ---\n",
      "no         1\n",
      "unknown    1\n",
      "\n",
      "\n",
      "---- telco_ack ---\n",
      "no     1\n",
      "yes    1\n",
      "\n",
      "\n"
     ]
    }
   ],
   "source": [
    "# telecom media affected\n",
    "telecom_bel = df_belarus[[\"country\",\"election\", \"sms_affected\", \"phone_call_affected\", \"telco_ack\"]]\n",
    "count_columns(telecom_bel)"
   ]
  },
  {
   "cell_type": "markdown",
   "id": "8845e0a6",
   "metadata": {},
   "source": [
    "#### Shutdown violence cases"
   ]
  },
  {
   "cell_type": "code",
   "execution_count": 43,
   "id": "a251882e",
   "metadata": {},
   "outputs": [
    {
     "name": "stdout",
     "output_type": "stream",
     "text": [
      "---- violence ---\n",
      "yes        80\n",
      "no         22\n",
      "unknown     7\n",
      "\n",
      "\n",
      "---- hr_abuse_reported ---\n",
      "unknown    98\n",
      "no          7\n",
      "yes         4\n",
      "\n",
      "\n",
      "---- users_notified ---\n",
      "no         103\n",
      "yes          3\n",
      "unknown      1\n",
      "\n",
      "\n",
      "---- users_affected/targetted ---\n",
      "ethnic minorities, religious minorities    1\n",
      "\n",
      "\n"
     ]
    }
   ],
   "source": [
    "# cases on India\n",
    "users_ind = df_india[[\"violence\", \"hr_abuse_reported\", \"users_notified\", \"users_affected/targetted\"]]\n",
    "count_columns(users_ind)"
   ]
  },
  {
   "cell_type": "code",
   "execution_count": 44,
   "id": "f2a8a604",
   "metadata": {
    "scrolled": true
   },
   "outputs": [
    {
     "name": "stdout",
     "output_type": "stream",
     "text": [
      "---- violence ---\n",
      "no     1\n",
      "yes    1\n",
      "\n",
      "\n",
      "---- hr_abuse_reported ---\n",
      "no     1\n",
      "yes    1\n",
      "\n",
      "\n",
      "---- users_notified ---\n",
      "no    2\n",
      "\n",
      "\n",
      "---- users_affected/targetted ---\n",
      "Series([], )\n",
      "\n",
      "\n"
     ]
    }
   ],
   "source": [
    "# cases on Belarus\n",
    "user_bel = df_belarus[[\"violence\", \"hr_abuse_reported\", \"users_notified\", \"users_affected/targetted\"]]\n",
    "count_columns(user_bel)"
   ]
  },
  {
   "cell_type": "code",
   "execution_count": 45,
   "id": "2ff121ae",
   "metadata": {},
   "outputs": [
    {
     "data": {
      "image/png": "[encoded data removed]",
      "text/plain": [
       "<Figure size 576x432 with 1 Axes>"
      ]
     },
     "metadata": {
      "needs_background": "light"
     },
     "output_type": "display_data"
    }
   ],
   "source": [
    "# graph of violence cases in both countries\n",
    "df_new = df.loc[df['country'].isin(['belarus', 'india']), ['country', 'violence']]\n",
    "df_plot = df_new.groupby(['country', 'violence']).size().reset_index(name='count')\n",
    "df_pivot = df_plot.pivot(index=['country'], columns=['violence'], values='count')\n",
    "\n",
    "ax = df_pivot.plot(kind='bar', stacked=True, figsize=(8,6))\n",
    "ax.set_xlabel(\"Country\")\n",
    "ax.set_ylabel(\"Number of Reports\")\n",
    "ax.set_title(\"Reports of Violence by Country\")\n",
    "ax.legend(title=\"Report Type\")\n",
    "ax;"
   ]
  },
  {
   "cell_type": "markdown",
   "id": "2cf7c72e",
   "metadata": {},
   "source": [
    "### Task consideration points:"
   ]
  },
  {
   "cell_type": "markdown",
   "id": "c1b4b5bf",
   "metadata": {},
   "source": [
    "Who ordered the shutdowns?"
   ]
  },
  {
   "cell_type": "code",
   "execution_count": 46,
   "id": "f919c0d0",
   "metadata": {},
   "outputs": [
    {
     "data": {
      "text/plain": [
       "ordered_by      \n",
       "local government    103\n",
       "state government      3\n",
       "unknown               2\n",
       "military              1\n",
       "dtype: int64"
      ]
     },
     "execution_count": 46,
     "metadata": {},
     "output_type": "execute_result"
    }
   ],
   "source": [
    "# in India\n",
    "ordered_ind = df_india[[\"ordered_by\"]]\n",
    "ordered_ind.value_counts()"
   ]
  },
  {
   "cell_type": "code",
   "execution_count": 47,
   "id": "17034e6e",
   "metadata": {},
   "outputs": [
    {
     "data": {
      "text/plain": [
       "ordered_by          \n",
       "executive government    2\n",
       "dtype: int64"
      ]
     },
     "execution_count": 47,
     "metadata": {},
     "output_type": "execute_result"
    }
   ],
   "source": [
    "# in Belarus\n",
    "ordered_bel = df_belarus[[\"ordered_by\"]]\n",
    "ordered_bel.value_counts()"
   ]
  },
  {
   "cell_type": "markdown",
   "id": "94856fa0",
   "metadata": {},
   "source": [
    "For the unique traits of these shutdowns point of consideration, the data used to answer is in the code above used to explore the data further."
   ]
  },
  {
   "cell_type": "markdown",
   "id": "df9554ae",
   "metadata": {},
   "source": [
    "What communities are impacted? How are they impacted?"
   ]
  },
  {
   "cell_type": "code",
   "execution_count": 48,
   "id": "15e3ccc0",
   "metadata": {
    "scrolled": false
   },
   "outputs": [
    {
     "name": "stdout",
     "output_type": "stream",
     "text": [
      "---- duration ---\n",
      "1.0      37\n",
      "0.0      33\n",
      "2.0       5\n",
      "175.0     1\n",
      "4.0       1\n",
      "\n",
      "\n",
      "---- state/india ---\n",
      "jammu and kashmir    83\n",
      "\n",
      "\n",
      "---- area_name ---\n",
      "kashmir valley                            5\n",
      "shopian, in jammu and kashmir             5\n",
      "pulwama                                   5\n",
      "kulgam, in jammu and kashmir              4\n",
      "pulwama district, in jammu and kashmir    4\n",
      "\n",
      "\n",
      "---- ordered_by ---\n",
      "local government    80\n",
      "state government     1\n",
      "unknown              1\n",
      "military             1\n",
      "\n",
      "\n",
      "---- affected_network ---\n",
      "mobile               82\n",
      "broadband, mobile     1\n",
      "\n",
      "\n",
      "---- gov_ack ---\n",
      "yes        82\n",
      "unknown     1\n",
      "\n",
      "\n",
      "---- actual_cause ---\n",
      "political instability            73\n",
      "religious holiday/anniversary     4\n",
      "other                             3\n",
      "protests                          2\n",
      "elections                         1\n",
      "\n",
      "\n",
      "---- legal_justif ---\n",
      "yes        81\n",
      "unknown     1\n",
      "\n",
      "\n",
      "---- violence ---\n",
      "yes        70\n",
      "no          8\n",
      "unknown     5\n",
      "\n",
      "\n",
      "---- hr_abuse_reported ---\n",
      "unknown    79\n",
      "yes         2\n",
      "no          2\n",
      "\n",
      "\n"
     ]
    }
   ],
   "source": [
    "# India\n",
    "impact_ind = df_india[[\"duration\", \"state/india\", \"area_name\", \"ordered_by\", \"affected_network\", \"gov_ack\",\n",
    "                       \"actual_cause\", \"legal_justif\", \"violence\", \"hr_abuse_reported\"]]\n",
    "\n",
    "impact_ind = impact_ind[impact_ind[\"state/india\"].str.strip() == 'jammu and kashmir']\n",
    "count_columns(impact_ind)"
   ]
  },
  {
   "cell_type": "code",
   "execution_count": 49,
   "id": "424cdbbd",
   "metadata": {},
   "outputs": [
    {
     "name": "stdout",
     "output_type": "stream",
     "text": [
      "---- duration ---\n",
      "0.0      1\n",
      "120.0    1\n",
      "\n",
      "\n",
      "---- area_name ---\n",
      "national    2\n",
      "\n",
      "\n",
      "---- ordered_by ---\n",
      "executive government    2\n",
      "\n",
      "\n",
      "---- affected_network ---\n",
      "broadband, mobile    2\n",
      "\n",
      "\n",
      "---- gov_ack ---\n",
      "no         1\n",
      "unknown    1\n",
      "\n",
      "\n",
      "---- actual_cause ---\n",
      "other        1\n",
      "elections    1\n",
      "\n",
      "\n",
      "---- legal_justif ---\n",
      "Series([], )\n",
      "\n",
      "\n",
      "---- violence ---\n",
      "no     1\n",
      "yes    1\n",
      "\n",
      "\n",
      "---- hr_abuse_reported ---\n",
      "no     1\n",
      "yes    1\n",
      "\n",
      "\n"
     ]
    }
   ],
   "source": [
    "# Belarus\n",
    "impact_bel = df_belarus[[\"duration\", \"area_name\", \"ordered_by\", \"affected_network\", \"gov_ack\",\n",
    "                       \"actual_cause\", \"legal_justif\", \"violence\", \"hr_abuse_reported\"]]\n",
    "\n",
    "count_columns(impact_bel)"
   ]
  },
  {
   "cell_type": "markdown",
   "id": "3962945b",
   "metadata": {},
   "source": [
    "## Task 2\n",
    "*There is a tweet report that a mobile network shutdown is ongoing in Niger right after its 2021\n",
    "presidential election. How would you proceed to verify this claim?\n",
    "(Please list any kind of evidence you think would be key to verify this shutdown and a plan to\n",
    "get them.)*"
   ]
  },
  {
   "cell_type": "markdown",
   "id": "536b25ef",
   "metadata": {},
   "source": [
    "First, I would check if I already have sources on the ground or that have access to them that my organization already trusts and that where already verified as a reliable source.<br>\n",
    "I would also verify the twitter account:\n",
    " - Is it a new or old one?\n",
    " - How frequent are the posts?\n",
    " - Do the older posts have truthful information?\n",
    " - Does the account have friends, followers and is follow others?\n",
    " - Check the interactions from this account to others.\n",
    " - Get in touch with the source and verify them and if anyone else has this information.\n",
    " - Do crowdsourcing verification, the \"Andy Carvin's Method\", retweeting the report and asking for other users to help verify it, or even refute it.\n",
    "\n",
    "Since the data in STOP is authentic, I can say that the biggest information source is News media articles, so I would also \n",
    "examine them for reliable confirmation to what was stated on the tweet report.<br>\n",
    "There are some methodologies that can be applied to verify a source, for example 5Ws, SMART Check, CRAAP test and so on, I would apply those to the tweet report and the sources I would investigate for confirmation.<br>\n",
    "\n",
    "I would also check in STOP if this kind of activity already happened in the country for the same or similar political reasons so it would indicate if the report is realistic or if it's a first time occurrence and requires even more inspection.<br>\n",
    "\n",
    "I would have to research deeper to know if this option is possible: Since mobile network shutdowns restrict the access to social networks we could as an NGO get in touch with the social media companies and have them report any suspicious shutdown activity, specially if it occurs in a large area; they should be able to verify if their service was affected and could then report back to our organization, or give us the path to find this information in case they have a transparency page, for our further investigation and tracking.\n"
   ]
  },
  {
   "cell_type": "code",
   "execution_count": 50,
   "id": "15e401aa",
   "metadata": {
    "scrolled": true
   },
   "outputs": [
    {
     "data": {
      "text/plain": [
       "info_source\n",
       "confidential           1\n",
       "cso kio partners       7\n",
       "news media article    85\n",
       "other                 57\n",
       "social media           4\n",
       "dtype: int64"
      ]
     },
     "execution_count": 50,
     "metadata": {},
     "output_type": "execute_result"
    }
   ],
   "source": [
    "df.groupby(['info_source']).size()"
   ]
  },
  {
   "cell_type": "markdown",
   "id": "d1a23163",
   "metadata": {},
   "source": [
    "## Task 3:\n",
    "*Here is the current STOP data intake form. Please go through the form and name any\n",
    "question that can be improved in your view as well as improvement suggestions.*"
   ]
  },
  {
   "cell_type": "markdown",
   "id": "baee5314",
   "metadata": {},
   "source": [
    "- Why is it not anonymous? Someone without a Google account or that does not remember their password could not fill it. Since the form does not ask for any identification or personal data the email address should also not be mandatory. Maybe put at the end one question that says if the person feels comfortable they can leave a contact number or email for further verification or questions.\n",
    "\n",
    "- Make the form in another free platform, for example WPForms or JotForm to avoid that.\n",
    "\n",
    "- Make all questions mandatory - it may annoy people but also may encourage them to give more detailed information. For example, in the scope written question, is always possible for the user to write 'I am not sure, but I am from *this region* and I don't have access anymore', providing us possibly better information rather than vague.\n",
    "\n",
    "- Very shortly explain what shutdown and throttle mean so its clear for all users. \n",
    "\n",
    "- Also for the next two questions (services and full or service shutdown), if a user without the knowledge comes across our form they wouldn't know how to answer, making our information collected prone to mistakes and inaccuracy.\n",
    "\n",
    "- Put a 'Other' option in the question of who ordered the shutdown and mention in the next question: if you selected 'Oder' please fill with an explanation. (do that to other alike questions as well).\n",
    "\n",
    "- 'State Government' can come across as confusing as some people might understand it as the same as Executive Government, as the political definition of State.\n",
    "\n",
    "- Would be interesting to have this form in more languages in case the user does not understand English; right on the beginning of the form a language selection could be made available.\n",
    "\n",
    "- If this form is made for exhaustive data collection according to STOP metrics, it should have questions that complete all of the data indexes in STOP, such as the social networks affected, violent episodes, telecoms affected, user notification and so on.\n",
    "\n",
    "- We can additionally ask about the life impact of the shutdown (or even economical), so we gather qualitative data as well."
   ]
  },
  {
   "cell_type": "code",
   "execution_count": 51,
   "id": "259ddcec",
   "metadata": {
    "scrolled": true
   },
   "outputs": [
    {
     "data": {
      "text/plain": [
       "political instability            51.6%\n",
       "other                            11.6%\n",
       "elections                        11.0%\n",
       "protests                          9.0%\n",
       "communal violence                 4.5%\n",
       "exam cheating                     4.5%\n",
       "unknown                           3.9%\n",
       "religious holiday/anniversary     3.2%\n",
       "information control               0.6%\n",
       "Name: actual_cause, dtype: object"
      ]
     },
     "execution_count": 51,
     "metadata": {},
     "output_type": "execute_result"
    }
   ],
   "source": [
    "df[\"actual_cause\"].value_counts(normalize=True).mul(100).round(1).astype(str) + '%'"
   ]
  },
  {
   "cell_type": "markdown",
   "id": "86515357",
   "metadata": {},
   "source": [
    "# Exporting my cleaned data for a future Tableau visualization project."
   ]
  },
  {
   "cell_type": "code",
   "execution_count": 52,
   "id": "5bb53435",
   "metadata": {},
   "outputs": [],
   "source": [
    "df.to_csv('KeepItOn_CleanedData.csv', index=False)"
   ]
  }
 ],
 "metadata": {
  "kernelspec": {
   "display_name": "Python 3 (ipykernel)",
   "language": "python",
   "name": "python3"
  },
  "language_info": {
   "codemirror_mode": {
    "name": "ipython",
    "version": 3
   },
   "file_extension": ".py",
   "mimetype": "text/x-python",
   "name": "python",
   "nbconvert_exporter": "python",
   "pygments_lexer": "ipython3",
   "version": "3.8.12"
  },
  "toc": {
   "base_numbering": 1,
   "nav_menu": {},
   "number_sections": true,
   "sideBar": true,
   "skip_h1_title": false,
   "title_cell": "Table of Contents",
   "title_sidebar": "Contents",
   "toc_cell": false,
   "toc_position": {},
   "toc_section_display": true,
   "toc_window_display": false
  }
 },
 "nbformat": 4,
 "nbformat_minor": 5
}
