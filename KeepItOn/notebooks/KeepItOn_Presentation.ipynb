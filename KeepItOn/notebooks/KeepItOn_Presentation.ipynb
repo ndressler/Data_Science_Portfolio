{
 "cells": [
  {
   "cell_type": "code",
   "execution_count": 1,
   "id": "454a6a5c",
   "metadata": {
    "slideshow": {
     "slide_type": "skip"
    }
   },
   "outputs": [],
   "source": [
    "#!pip install RISE\n",
    "#!jupyter-nbextension install rise --py --sys-prefix\n",
    "#!jupyter-nbextension enable rise --py --sys-prefix\n",
    "#!jupyter-nbextension list\n",
    "from IPython.display import Markdown\n",
    "import pandas as pd"
   ]
  },
  {
   "cell_type": "markdown",
   "id": "9ac50df0",
   "metadata": {
    "slideshow": {
     "slide_type": "skip"
    }
   },
   "source": [
    "<head>\n",
    "    <meta name=\"viewport\" content=\"width=device-width, initial-scale=1\">\n",
    "    <style>\n",
    "        /* CSS styles for responsiveness */\n",
    "        .slide {\n",
    "            width: 100%;\n",
    "            height: 100%;\n",
    "        }\n",
    "\n",
    "        @media screen and (max-width: 768px) {\n",
    "            .slide {\n",
    "                font-size: 14px;\n",
    "            }\n",
    "        }\n",
    "        .output_area {\n",
    "        max-height: 300px; /* Adjust height as needed */\n",
    "        overflow-y: auto; /* Enable vertical scrolling if needed */\n",
    "        font-size: 14px; /* Adjust font size as needed */\n",
    "        }\n",
    "    </style>\n",
    "</head>\n"
   ]
  },
  {
   "cell_type": "markdown",
   "id": "1dd0ea92",
   "metadata": {
    "slideshow": {
     "slide_type": "slide"
    }
   },
   "source": [
    "# <span style='color:red'> #KeepItOn </span> 📡 <br>Data Analysis"
   ]
  },
  {
   "cell_type": "markdown",
   "id": "38cbe605",
   "metadata": {
    "slideshow": {
     "slide_type": "subslide"
    }
   },
   "source": [
    "__The Context:__\n",
    "<br>Access Now is a growing international human rights organization dedicated to defending and extending the digital rights of users at risk around the world. This task falls within the #KeepItOn campaign, a global initiative to end internet shutdowns through advocacy, documentation and monitoring, direct policy-maker engagement, strategic litigation among others.\n",
    "\n",
    "__About the Project:__\n",
    "<br>The aim of this project is to analyse a database consisting on internet access shut downs around the world, The aim of this project is to answer the questions from the case study proposed besides doing a Exploratory Data Analysis."
   ]
  },
  {
   "cell_type": "markdown",
   "id": "8fb56542",
   "metadata": {
    "slideshow": {
     "slide_type": "subslide"
    }
   },
   "source": [
    "__The tasks for analysis:__\n",
    "- Task 1: In bullet sentences tell some differences of shutdown cases between India and Belarus. (Consider: Who ordered the shutdowns? What are the unique traits of these shutdowns? What communities are impacted? How are they impacted?)\n",
    "- Task 2: There is a tweet report that a mobile network shutdown is ongoing in Niger right after its 2021 residential election. How would you proceed to verify this claim? (Please list any kind of evidence you think would be key to verify this shutdown and a plan to get them.)"
   ]
  },
  {
   "cell_type": "markdown",
   "id": "79377045",
   "metadata": {
    "slideshow": {
     "slide_type": "slide"
    }
   },
   "source": [
    "# EDA - Exploratory Data Analysis"
   ]
  },
  {
   "cell_type": "markdown",
   "id": "cdfb8fa2",
   "metadata": {
    "slideshow": {
     "slide_type": "subslide"
    }
   },
   "source": [
    "## Duration of Shutdowns in Days\n",
    "![Total Duration](../outputs/graphs/total_duration.png)"
   ]
  },
  {
   "cell_type": "markdown",
   "id": "6e23ea19",
   "metadata": {
    "slideshow": {
     "slide_type": "subslide"
    }
   },
   "source": [
    "## Main Information Source\n",
    "![main_info_source](../outputs/graphs/main_info_source.png)"
   ]
  },
  {
   "cell_type": "markdown",
   "id": "5ffacfd7",
   "metadata": {
    "slideshow": {
     "slide_type": "subslide"
    }
   },
   "source": [
    "## Geo Scope and Duration\n",
    "![geo_scope_duration](../outputs/graphs/geo_scope_duration.png)"
   ]
  },
  {
   "cell_type": "markdown",
   "id": "71ce5680",
   "metadata": {
    "slideshow": {
     "slide_type": "subslide"
    }
   },
   "source": [
    "## Shutdowns by Continent\n",
    "![continent](../outputs/graphs/continents.png)"
   ]
  },
  {
   "cell_type": "markdown",
   "id": "3f1dfec5",
   "metadata": {
    "slideshow": {
     "slide_type": "subslide"
    }
   },
   "source": [
    "## Shutdowns by Country\n",
    "![country](../outputs/graphs/country.png)"
   ]
  },
  {
   "cell_type": "markdown",
   "id": "8e104e4b",
   "metadata": {
    "slideshow": {
     "slide_type": "subslide"
    }
   },
   "source": [
    "## Shutdown Orderer\n",
    "![orderer](../outputs/graphs/orderer.png)"
   ]
  },
  {
   "cell_type": "markdown",
   "id": "d16e20ae",
   "metadata": {
    "slideshow": {
     "slide_type": "subslide"
    }
   },
   "source": [
    "## Shutdowns Distributions and Services Affected\n",
    "![distribution_services](../outputs/graphs/distribution_services.png)"
   ]
  },
  {
   "cell_type": "markdown",
   "id": "4ac5dfd6",
   "metadata": {
    "slideshow": {
     "slide_type": "subslide"
    }
   },
   "source": [
    "## Correlation of Social Media and Telecommunication Affected\n",
    "![corr_social_telecom](../outputs/graphs/corr_social_telecom.png)"
   ]
  },
  {
   "cell_type": "markdown",
   "id": "03dd754b",
   "metadata": {
    "slideshow": {
     "slide_type": "subslide"
    }
   },
   "source": [
    "## Official Justification\n",
    "![official_just](../outputs/graphs/official_just.png)"
   ]
  },
  {
   "cell_type": "markdown",
   "id": "f1caed13",
   "metadata": {
    "slideshow": {
     "slide_type": "subslide"
    }
   },
   "source": [
    "## Correlation Matrix of Shutdowns\n",
    "![corr_shutdowns](../outputs/graphs/corr_shutdowns.png)"
   ]
  },
  {
   "cell_type": "markdown",
   "id": "1aff10d7",
   "metadata": {
    "slideshow": {
     "slide_type": "subslide"
    }
   },
   "source": [
    "## Distribution of effects of Shutdowns\n",
    "![distribution_efects](../outputs/graphs/distribution_efects.png)"
   ]
  },
  {
   "cell_type": "markdown",
   "id": "315e4784",
   "metadata": {
    "slideshow": {
     "slide_type": "slide"
    }
   },
   "source": [
    "# <span style='color:red'>Tasks Analysis</span>"
   ]
  },
  {
   "cell_type": "markdown",
   "id": "8a482c67",
   "metadata": {
    "slideshow": {
     "slide_type": "subslide"
    }
   },
   "source": [
    "##  <span style='color:red'>Task 1 </span>"
   ]
  },
  {
   "cell_type": "markdown",
   "id": "9071316f",
   "metadata": {
    "slideshow": {
     "slide_type": "fragment"
    }
   },
   "source": [
    "<span style='color:red'> Task 1: </span>In bullet sentences tell some differences of shutdown cases between India and Belarus. (Consider: Who ordered the shutdowns? What are the unique traits of these shutdowns? What communities are impacted? How are they impacted?)"
   ]
  },
  {
   "cell_type": "markdown",
   "id": "43d69be0",
   "metadata": {
    "slideshow": {
     "slide_type": "fragment"
    }
   },
   "source": [
    "__Who ordered the shutdowns?__\n",
    "\n",
    "\n",
    "India: \n",
    "- The Local Government ordered 103, State Government 3, Military 1 and the remaining 2 are unknown.<br>\n",
    "\n",
    "Belarus: \n",
    "- The two cases were ordered by the Executive Government."
   ]
  },
  {
   "cell_type": "markdown",
   "id": "557c693b",
   "metadata": {
    "slideshow": {
     "slide_type": "subslide"
    }
   },
   "source": [
    "__What are the unique traits of these shutdowns?__\n",
    "\n",
    "India:<br>\n",
    "* Most cases were violent (80 of 109); <br>\n",
    "* Mainly the mobile network was shut down, telecommunication services and social media were still online; <br>\n",
    "* India has significantly more cases than any other country including Belarus;<br>\n",
    "* India's longest duration case lasted 175 days, but the average duration is 3 days;<br>\n",
    "* The majority of the cases that had a legal justification, being ‘precautionary measure’, mostly induced by political instability as the actual cause.<br>\n",
    "<br>\n",
    "\n",
    "Belarus:<br>\n",
    "* Although India has 109 shutdown cases while Belarus only 2, this country had the most harsh one, taking into account that all communications were shut down with all social media being disrupted as well as the full network; this shutdown episode also took place in the whole country (level 3 of scope), while in India none of the shutdowns were on a national scale; none of the were ever notified;<br>\n",
    "* Human Rights were infringed and it became a violent shutdown that lasted 120 days;<br>\n",
    "* It was ordered by the Executive Government during an election period."
   ]
  },
  {
   "cell_type": "markdown",
   "id": "8f4897e4",
   "metadata": {
    "slideshow": {
     "slide_type": "subslide"
    }
   },
   "source": [
    "__What communities are impacted? How are they impacted?__\n",
    "\n",
    "<br>\n",
    "India:\n",
    "\n",
    "- The region most affected was the Jammu and Kashmir union territory (83 of the cases from the 109) mostly in 2020 with almost all of them being ordered by the Local Government;\n",
    "- Most of them lasted one day only, but this region also had India's longest lasting case of 175 days; \n",
    "- Almost all had violent episodes, having their actual cause being political instability, mainly targeting mobile networks.\n",
    "\n",
    "\n",
    "Belarus:\n",
    "- This country suffered 2 shutdowns, one lasting less than a day and the other being the most violent and long, lasting 120 days;\n",
    "- Focusing on the most relevant shutdown: the whole country was affected, the shutdown was on a national level, with all social media being shut down; violence was experienced apart from the Human Rights infringements suffered."
   ]
  },
  {
   "cell_type": "markdown",
   "id": "a88d7cbf",
   "metadata": {
    "slideshow": {
     "slide_type": "subslide"
    }
   },
   "source": [
    " __Complementing points:__\n",
    "<div style=\"overflow-y: auto; max-height: 400px;\">\n",
    "- India has significantly more shutdown cases than Belarus, India having 109 (70.3%) and Belarus with only 2 (1.3%).\n",
    "<br><br>\n",
    "- India's most affected state is Jammu and Kashmir, which actually is a union territory subject of dispute between other countries. The attacks also affect mostly level 1 regions (only affecting one city, county, or village).\n",
    "<br><br>\n",
    "- Although India's average duration of each case is 3 days, that only happens due to its high number of occurrences.\n",
    "<br><br>\n",
    "- Most Indian cases turned violent, it is unknown for most cases if Human Rights infringed, nevertheless we can see that users were not notified about the shutdowns.\n",
    "<br><br>\n",
    "- The majority of the shutdowns that occurred in India had a legal method and a legal justification, mostly induced by political instability as the actual cause.\n",
    "<br><br>\n",
    "- The Indian shutdowns were also nearly all reinforced by the security operations, and referred and ordered by the local government as a precaution measure, and most were violent.\n",
    "<br><br>\n",
    "- Both Belarus and India had one case that lasted more than 4 months, all the other countries accounted for 15 days or less.\n",
    "<br><br>\n",
    "- The only points in common of these two countries' highest duration cases that we know of are that both had political reasons and were classified mainly as Full network Shutdowns.\n",
    "<br><br>\n",
    "- One notable difference between India and Belarus is that when an election driven shutdown occurs in India it is not violent and tends to not last a long time, the aim is mainly to control the spread of misinformation.\n",
    "<br><br>\n",
    "- While the cases in Belarus were very broad, meaning that they were classified as shutdowns plus took down broadband and mobile connect besides affecting full networks and services; the ones in India were also mainly classified as shutdowns, but the difference is that they affected mostly only mobile networks.\n",
    "<br><br>\n",
    "- The main information source for Belarus was through news media articles, meanwhile for India that only was true for almost half the cases.\n",
    "<br><br>\n",
    "- The case with the highest duration in Belarus did, it was ordered by the government with legal justification during an election period and experienced violence, lasted about 4 months and was justified as a National Security matter.\n",
    "    </div>"
   ]
  },
  {
   "cell_type": "markdown",
   "id": "d6202016",
   "metadata": {
    "slideshow": {
     "slide_type": "slide"
    }
   },
   "source": [
    "### Main Statistics"
   ]
  },
  {
   "cell_type": "markdown",
   "id": "e3d9e9b4",
   "metadata": {
    "slideshow": {
     "slide_type": "subslide"
    }
   },
   "source": [
    "### Quantity of Shutdowns\n",
    "![quantity_shutdowns_IndiaBelarus](../outputs/graphs/quantity_shutdowns_IndiaBelarus.png)"
   ]
  },
  {
   "cell_type": "markdown",
   "id": "7543ff0e",
   "metadata": {
    "slideshow": {
     "slide_type": "subslide"
    }
   },
   "source": [
    "### Main Statistics on India and Belarus\n",
    "![main_stats](../outputs/graphs/main_statistics_IndiaBelarus.png)"
   ]
  },
  {
   "cell_type": "markdown",
   "id": "157c0f99",
   "metadata": {
    "slideshow": {
     "slide_type": "subslide"
    }
   },
   "source": [
    "### Information Source for India and Belarus\n",
    "![information_sources_for_shutdowns_IndiaBelarus](../outputs/graphs/information_sources_for_shutdowns_IndiaBelarus.png)"
   ]
  },
  {
   "cell_type": "markdown",
   "id": "3243d536",
   "metadata": {
    "slideshow": {
     "slide_type": "subslide"
    }
   },
   "source": [
    "### Affected Areas in India and Belarus\n",
    "![affected_areas_IndiaBelarus](../outputs/graphs/affected_areas_IndiaBelarus.png)"
   ]
  },
  {
   "cell_type": "markdown",
   "id": "cc62b3de",
   "metadata": {
    "slideshow": {
     "slide_type": "subslide"
    }
   },
   "source": [
    "### Geo Scope Affected in India and Belarus\n",
    "![geo_scope_affected_IndiaBelarus](../outputs/graphs/geo_scope_affected_IndiaBelarus.png)"
   ]
  },
  {
   "cell_type": "markdown",
   "id": "e15f7be1",
   "metadata": {
    "slideshow": {
     "slide_type": "subslide"
    }
   },
   "source": [
    "### Shutdowns Orderers in India and Belarus\n",
    "![shutdown_orderer_IndiaBelarus](../outputs/graphs/shutdown_orderer_IndiaBelarus.png)"
   ]
  },
  {
   "cell_type": "markdown",
   "id": "b9c01634",
   "metadata": {
    "slideshow": {
     "slide_type": "subslide"
    }
   },
   "source": [
    "### Shutdown Types in India and Belarus\n",
    "![shutdown_types_IndiaBelarus](../outputs/graphs/shutdown_types_IndiaBelarus.png)"
   ]
  },
  {
   "cell_type": "markdown",
   "id": "fb8d0d5d",
   "metadata": {
    "slideshow": {
     "slide_type": "subslide"
    }
   },
   "source": [
    "### Social Media and Telecommunications Affected in India and Belarus\n",
    "![social_media_and_telecom_affected_IndiaBelarus](../outputs/graphs/social_media_and_telecom_affected_IndiaBelarus.png)"
   ]
  },
  {
   "cell_type": "markdown",
   "id": "7f3b8cf4",
   "metadata": {
    "slideshow": {
     "slide_type": "slide"
    }
   },
   "source": [
    "##  <span style='color:red'>Task 2 </span>"
   ]
  },
  {
   "cell_type": "markdown",
   "id": "d531b3d4",
   "metadata": {
    "slideshow": {
     "slide_type": "fragment"
    }
   },
   "source": [
    "<span style='color:red'> Task 2: </span>There is a tweet report that a mobile network shutdown is ongoing in Niger right after its 2021 residential election. How would you proceed to verify this claim? (Please list any kind of evidence you think would be key to verify this shutdown and a plan to get them.)"
   ]
  },
  {
   "cell_type": "markdown",
   "id": "95bf1291",
   "metadata": {
    "slideshow": {
     "slide_type": "subslide"
    }
   },
   "source": [
    "First, I would check if I already have sources on the ground or that have access to them that my organization already trusts and that where already verified as a reliable source.<br>\n",
    "I would also verify the twitter account:\n",
    " - Is it a new or old one?\n",
    " - How frequent are the posts?\n",
    " - Do the older posts have truthful information?\n",
    " - Does the account have friends, followers and is follow others?\n",
    " - Check the interactions from this account to others.\n",
    " - Get in touch with the source and verify them and if anyone else has this information.\n",
    " - Do crowdsourcing verification, the \"Andy Carvin's Method\", retweeting the report and asking for other users to help verify it, or even refute it."
   ]
  },
  {
   "cell_type": "markdown",
   "id": "2baa6767",
   "metadata": {
    "slideshow": {
     "slide_type": "subslide"
    }
   },
   "source": [
    "Since the data in STOP is authentic, I can say that the biggest information source is News media articles, so I would also \n",
    "examine them for reliable confirmation to what was stated on the tweet report.<br>\n",
    "There are some methodologies that can be applied to verify a source, for example 5Ws, SMART Check, CRAAP test and so on, I would apply those to the tweet report and the sources I would investigate for confirmation.<br>\n",
    "\n",
    "I would also check in STOP if this kind of activity already happened in the country for the same or similar political reasons so it would indicate if the report is realistic or if it's a first time occurrence and requires even more inspection.<br>\n",
    "\n",
    "I would have to research deeper to know if this option is possible: Since mobile network shutdowns restrict the access to social networks we could as an NGO get in touch with the social media companies and have them report any suspicious shutdown activity, specially if it occurs in a large area; they should be able to verify if their service was affected and could then report back to our organization, or give us the path to find this information in case they have a transparency page, for our further investigation and tracking."
   ]
  },
  {
   "cell_type": "markdown",
   "id": "a814bc5d",
   "metadata": {
    "slideshow": {
     "slide_type": "slide"
    }
   },
   "source": [
    "# Thank you!"
   ]
  }
 ],
 "metadata": {
  "celltoolbar": "Slideshow",
  "kernelspec": {
   "display_name": "Python 3 (ipykernel)",
   "language": "python",
   "name": "python3"
  },
  "language_info": {
   "codemirror_mode": {
    "name": "ipython",
    "version": 3
   },
   "file_extension": ".py",
   "mimetype": "text/x-python",
   "name": "python",
   "nbconvert_exporter": "python",
   "pygments_lexer": "ipython3",
   "version": "3.10.6"
  },
  "toc": {
   "base_numbering": 1,
   "nav_menu": {},
   "number_sections": true,
   "sideBar": true,
   "skip_h1_title": false,
   "title_cell": "Table of Contents",
   "title_sidebar": "Contents",
   "toc_cell": false,
   "toc_position": {},
   "toc_section_display": true,
   "toc_window_display": false
  }
 },
 "nbformat": 4,
 "nbformat_minor": 5
}
